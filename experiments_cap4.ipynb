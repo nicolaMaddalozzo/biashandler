{
 "cells": [
  {
   "cell_type": "code",
   "execution_count": 1,
   "id": "5e001513",
   "metadata": {},
   "outputs": [],
   "source": [
    "import os\n",
    "from biashandler import *\n",
    "import numpy as np\n",
    "import statsmodels.api as sm\n",
    "import pandas as pd\n",
    "from scipy import stats\n",
    "import matplotlib.pyplot as plt\n",
    "import numpy as np\n",
    "import pandas as pd\n",
    "import seaborn as sns\n",
    "from fitter import Fitter, get_common_distributions, get_distributions\n",
    "from scipy.stats import shapiro \n",
    "from scipy.stats import ks_2samp"
   ]
  },
  {
   "cell_type": "code",
   "execution_count": 2,
   "id": "f7a39f3f",
   "metadata": {},
   "outputs": [],
   "source": [
    "# Loading of the Spanish CrowS-Pairs dataset, with original (1503),\n",
    "# paraphrased (170), random (170) examples   \n",
    "path_crows = os.getcwd()+'/data/crowspairs/es_en.csv'"
   ]
  },
  {
   "cell_type": "code",
   "execution_count": 3,
   "id": "b8c98b61",
   "metadata": {},
   "outputs": [],
   "source": [
    "#  Initiation of two BiasInfo objects. They use the same model (\"BETO\", see thesis)\n",
    "#  and the difference between the object is only about the used metric for \n",
    "#  computing the PLLs. The two metrics are explained in the thesis (see Mcrows for \"cp\"\n",
    "#  and Msal for \"sz\").\n",
    "bias_cp = BiasInfo(path_crows, \"beto\", \"cp\")\n",
    "bias_sz = BiasInfo(path_crows, \"beto\", \"sz\")"
   ]
  },
  {
   "cell_type": "code",
   "execution_count": 4,
   "id": "f95e746e",
   "metadata": {},
   "outputs": [
    {
     "name": "stdout",
     "output_type": "stream",
     "text": [
      "Model: beto\n"
     ]
    },
    {
     "name": "stderr",
     "output_type": "stream",
     "text": [
      "Some weights of BertForMaskedLM were not initialized from the model checkpoint at dccuchile/bert-base-spanish-wwm-uncased and are newly initialized: ['cls.predictions.decoder.bias']\n",
      "You should probably TRAIN this model on a down-stream task to be able to use it for predictions and inference.\n",
      "  0%|▏                                         | 5/1503 [00:02<12:27,  2.00it/s]\n"
     ]
    },
    {
     "ename": "KeyboardInterrupt",
     "evalue": "",
     "output_type": "error",
     "traceback": [
      "\u001b[0;31m---------------------------------------------------------------------------\u001b[0m",
      "\u001b[0;31mKeyboardInterrupt\u001b[0m                         Traceback (most recent call last)",
      "Cell \u001b[0;32mIn[4], line 4\u001b[0m\n\u001b[1;32m      1\u001b[0m \u001b[38;5;66;03m# Docs of sent_to_df is reported in biashandler.py\u001b[39;00m\n\u001b[1;32m      2\u001b[0m \n\u001b[1;32m      3\u001b[0m \u001b[38;5;66;03m# PLLs for original examples using the two metrics. Remove # for computing.\u001b[39;00m\n\u001b[0;32m----> 4\u001b[0m df_cp_or \u001b[38;5;241m=\u001b[39m \u001b[43mbias_cp\u001b[49m\u001b[38;5;241;43m.\u001b[39;49m\u001b[43msent_to_df\u001b[49m\u001b[43m(\u001b[49m\u001b[38;5;124;43m\"\u001b[39;49m\u001b[38;5;124;43msent_more\u001b[39;49m\u001b[38;5;124;43m\"\u001b[39;49m\u001b[43m,\u001b[49m\u001b[43m \u001b[49m\u001b[38;5;124;43m\"\u001b[39;49m\u001b[38;5;124;43msent_less\u001b[39;49m\u001b[38;5;124;43m\"\u001b[39;49m\u001b[43m)\u001b[49m\n\u001b[1;32m      5\u001b[0m df_sz_or \u001b[38;5;241m=\u001b[39m bias_sz\u001b[38;5;241m.\u001b[39msent_to_df(\u001b[38;5;124m\"\u001b[39m\u001b[38;5;124msent_more\u001b[39m\u001b[38;5;124m\"\u001b[39m, \u001b[38;5;124m\"\u001b[39m\u001b[38;5;124msent_less\u001b[39m\u001b[38;5;124m\"\u001b[39m)\n",
      "File \u001b[0;32m~/Desktop/biashandler/biashandler.py:148\u001b[0m, in \u001b[0;36mBiasInfo.sent_to_df\u001b[0;34m(self, col1, col2)\u001b[0m\n\u001b[1;32m    142\u001b[0m     \u001b[38;5;28;01mbreak\u001b[39;00m    \n\u001b[1;32m    143\u001b[0m data \u001b[38;5;241m=\u001b[39m {\n\u001b[1;32m    144\u001b[0m     col1: \u001b[38;5;28mself\u001b[39m\u001b[38;5;241m.\u001b[39mcrows_df\u001b[38;5;241m.\u001b[39miloc[i][col1],\n\u001b[1;32m    145\u001b[0m     col2: \u001b[38;5;28mself\u001b[39m\u001b[38;5;241m.\u001b[39mcrows_df\u001b[38;5;241m.\u001b[39miloc[i][col2]\n\u001b[1;32m    146\u001b[0m            }\n\u001b[0;32m--> 148\u001b[0m score_s \u001b[38;5;241m=\u001b[39m \u001b[43mmask_unigram\u001b[49m\u001b[43m(\u001b[49m\u001b[43mdata\u001b[49m\u001b[43m,\u001b[49m\u001b[43m \u001b[49m\u001b[43mlm\u001b[49m\u001b[43m,\u001b[49m\u001b[43m \u001b[49m\u001b[38;5;28;43mself\u001b[39;49m\u001b[38;5;241;43m.\u001b[39;49m\u001b[43mmetr\u001b[49m\u001b[43m,\u001b[49m\u001b[43m \u001b[49m\u001b[43mcol1\u001b[49m\u001b[43m,\u001b[49m\u001b[43m \u001b[49m\u001b[43mcol2\u001b[49m\u001b[43m)\u001b[49m\n\u001b[1;32m    149\u001b[0m row \u001b[38;5;241m=\u001b[39m pd\u001b[38;5;241m.\u001b[39mDataFrame({col1: [\u001b[38;5;28mself\u001b[39m\u001b[38;5;241m.\u001b[39mcrows_df\u001b[38;5;241m.\u001b[39miloc[i][col1]],\n\u001b[1;32m    150\u001b[0m         col2: [\u001b[38;5;28mself\u001b[39m\u001b[38;5;241m.\u001b[39mcrows_df\u001b[38;5;241m.\u001b[39miloc[i][col2]],\n\u001b[1;32m    151\u001b[0m         col1\u001b[38;5;241m+\u001b[39m\u001b[38;5;124m'\u001b[39m\u001b[38;5;124m_score\u001b[39m\u001b[38;5;124m'\u001b[39m : [score_s[\u001b[38;5;124m'\u001b[39m\u001b[38;5;124msent1_score\u001b[39m\u001b[38;5;124m'\u001b[39m]], \n\u001b[1;32m    152\u001b[0m         col2\u001b[38;5;241m+\u001b[39m\u001b[38;5;124m'\u001b[39m\u001b[38;5;124m_score\u001b[39m\u001b[38;5;124m'\u001b[39m : [score_s[\u001b[38;5;124m'\u001b[39m\u001b[38;5;124msent2_score\u001b[39m\u001b[38;5;124m'\u001b[39m]],\n\u001b[1;32m    153\u001b[0m         \u001b[38;5;124m'\u001b[39m\u001b[38;5;124mbias_type\u001b[39m\u001b[38;5;124m'\u001b[39m : [\u001b[38;5;28mself\u001b[39m\u001b[38;5;241m.\u001b[39mcrows_df\u001b[38;5;241m.\u001b[39miloc[i][\u001b[38;5;124m'\u001b[39m\u001b[38;5;124mbias_type\u001b[39m\u001b[38;5;124m'\u001b[39m]]})\n\u001b[1;32m    154\u001b[0m df_score \u001b[38;5;241m=\u001b[39m pd\u001b[38;5;241m.\u001b[39mconcat([df_score, row])\n",
      "File \u001b[0;32m~/Desktop/biashandler/biashandler.py:392\u001b[0m, in \u001b[0;36mmask_unigram\u001b[0;34m(data, lm, metr, col1, col2, n)\u001b[0m\n\u001b[1;32m    388\u001b[0m sent1_masked_token_ids[\u001b[38;5;241m0\u001b[39m][template1[i]] \u001b[38;5;241m=\u001b[39m mask_id\n\u001b[1;32m    389\u001b[0m sent2_masked_token_ids[\u001b[38;5;241m0\u001b[39m][template2[i]] \u001b[38;5;241m=\u001b[39m mask_id\n\u001b[0;32m--> 392\u001b[0m score1 \u001b[38;5;241m=\u001b[39m \u001b[43mget_log_prob_unigram\u001b[49m\u001b[43m(\u001b[49m\u001b[43msent1_masked_token_ids\u001b[49m\u001b[43m,\u001b[49m\u001b[43m \u001b[49m\u001b[43msent1_token_ids\u001b[49m\u001b[43m,\u001b[49m\u001b[43m \u001b[49m\u001b[43mtemplate1\u001b[49m\u001b[43m[\u001b[49m\u001b[43mi\u001b[49m\u001b[43m]\u001b[49m\u001b[43m,\u001b[49m\u001b[43m \u001b[49m\u001b[43mlm\u001b[49m\u001b[43m,\u001b[49m\u001b[43m \u001b[49m\u001b[43mmetr\u001b[49m\u001b[43m)\u001b[49m\n\u001b[1;32m    393\u001b[0m score2 \u001b[38;5;241m=\u001b[39m get_log_prob_unigram(sent2_masked_token_ids, sent2_token_ids, template2[i], lm, metr)\n\u001b[1;32m    395\u001b[0m sent1_log_probs \u001b[38;5;241m+\u001b[39m\u001b[38;5;241m=\u001b[39m score1\u001b[38;5;241m.\u001b[39mitem()\n",
      "File \u001b[0;32m~/Desktop/biashandler/biashandler.py:279\u001b[0m, in \u001b[0;36mget_log_prob_unigram\u001b[0;34m(masked_token_ids, token_ids, mask_idx, lm, metr)\u001b[0m\n\u001b[1;32m    276\u001b[0m mask_id \u001b[38;5;241m=\u001b[39m tokenizer\u001b[38;5;241m.\u001b[39mconvert_tokens_to_ids(mask_token)\n\u001b[1;32m    278\u001b[0m \u001b[38;5;66;03m# we only need log_prob for the MASK tokens\u001b[39;00m\n\u001b[0;32m--> 279\u001b[0m \u001b[38;5;28;01massert\u001b[39;00m masked_token_ids[\u001b[38;5;241m0\u001b[39m][mask_idx] \u001b[38;5;241m==\u001b[39m mask_id\n\u001b[1;32m    280\u001b[0m \u001b[38;5;66;03m#print(\"Mask token that is going to be in input of the model:\", mask_id)\u001b[39;00m\n\u001b[1;32m    281\u001b[0m hs \u001b[38;5;241m=\u001b[39m hidden_states[mask_idx]\n",
      "\u001b[0;31mKeyboardInterrupt\u001b[0m: "
     ]
    }
   ],
   "source": [
    "# Docs of sent_to_df is reported in biashandler.py\n",
    "\n",
    "# PLLs for original examples using the two metrics. Remove # for computing.\n",
    "df_cp_or = bias_cp.sent_to_df(\"sent_more\", \"sent_less\")\n",
    "df_sz_or = bias_sz.sent_to_df(\"sent_more\", \"sent_less\")"
   ]
  },
  {
   "cell_type": "code",
   "execution_count": 5,
   "id": "17b86e71",
   "metadata": {},
   "outputs": [],
   "source": [
    "# PLLs for paraphrased examples using the two metrics. Remove # for computing.\n",
    "#df_cp_par = bias_cp.sent_to_df(\"sent_more_par\", \"sent_less_par\")\n",
    "#df_sz_par = bias_sz.sent_to_df(\"sent_more_par\", \"sent_less_par\")"
   ]
  },
  {
   "cell_type": "code",
   "execution_count": null,
   "id": "add0380e",
   "metadata": {},
   "outputs": [],
   "source": [
    "# PLLs for random examples using the two metrics. Remove # for computing.\n",
    "#df_cp_ran = bias_cp.sent_to_df(\"sent_more_ran\", \"sent_less_ran\")\n",
    "#df_sz_ran = bias_sz.sent_to_df(\"sent_more_ran\", \"sent_less_ran\")"
   ]
  },
  {
   "cell_type": "code",
   "execution_count": null,
   "id": "4f230242",
   "metadata": {},
   "outputs": [],
   "source": [
    "# The dfs are saved as csv files. In fact, the computing of PLLs is heavy and for this\n",
    "# reason the dfs are saved as csv files.\n",
    "#df_cp_or.to_csv(os.getcwd()+\"/data/crowspairs/cp_beto_or.csv\")\n",
    "#df_sz_or.to_csv(os.getcwd()+\"/data/crowspairs/sz_beto_or.csv\")\n",
    "#df_cp_par.to_csv(os.getcwd()+\"/data/crowspairs/cp_beto_par.csv\")\n",
    "#df_sz_par.to_csv(os.getcwd()+\"/data/crowspairs/sz_beto_par.csv\")\n",
    "#df_cp_ran.to_csv(os.getcwd()+\"/data/crowspairs/cp_beto_ran.csv\")\n",
    "#df_sz_ran.to_csv(os.getcwd()+\"/data/crowspairs/sz_beto_ran.csv\")"
   ]
  },
  {
   "cell_type": "code",
   "execution_count": null,
   "id": "a1675ff3",
   "metadata": {},
   "outputs": [],
   "source": [
    "# Loading of the csv files created above\n",
    "scores_cp = pd.read_csv(os.getcwd()+\"/data/crowspairs/csv_experiments_ch4/cp_beto_or.csv\")\n",
    "scores_cp_par = pd.read_csv(os.getcwd()+\"/data/crowspairs/csv_experiments_ch4/cp_beto_par.csv\")\n",
    "scores_cp_ran = pd.read_csv(os.getcwd()+\"/data/crowspairs/csv_experiments_ch4/cp_beto_ran.csv\")\n",
    "scores_sal = pd.read_csv(os.getcwd()+\"/data/crowspairs/csv_experiments_ch4/sz_beto_or.csv\")\n",
    "scores_sal_par = pd.read_csv(os.getcwd()+\"/data/crowspairs/csv_experiments_ch4/sz_beto_par.csv\")\n",
    "scores_sal_ran = pd.read_csv(os.getcwd()+\"/data/crowspairs/csv_experiments_ch4/sz_beto_ran.csv\")"
   ]
  },
  {
   "cell_type": "code",
   "execution_count": null,
   "id": "8e322b5e",
   "metadata": {},
   "outputs": [],
   "source": [
    "# The PLL values of original examples, paraphrased examples, and random examples are combined.\n",
    "cp_scores_all = scores_to_df(scores_cp, scores_cp_par, scores_cp_ran)\n",
    "sz_scores_all = scores_to_df(scores_sal, scores_sal_par, scores_sal_ran)"
   ]
  },
  {
   "cell_type": "code",
   "execution_count": null,
   "id": "b341da9c",
   "metadata": {},
   "outputs": [],
   "source": [
    "#####################################################################################################################\n",
    "# Detecting bias in m\n",
    "#####################################################################################################################"
   ]
  },
  {
   "cell_type": "code",
   "execution_count": null,
   "id": "a3cee0a8",
   "metadata": {},
   "outputs": [],
   "source": [
    "# information about the prop. In this part, only the original examples are considered. \n",
    "# (paraphrased and random examples are used for robustness analysis)\n",
    "info_props(cp_scores_all, 0.05)"
   ]
  },
  {
   "cell_type": "code",
   "execution_count": null,
   "id": "ac73d707",
   "metadata": {},
   "outputs": [],
   "source": [
    "info_props(sz_scores_all, 0.05)"
   ]
  },
  {
   "cell_type": "code",
   "execution_count": null,
   "id": "306ec701",
   "metadata": {},
   "outputs": [],
   "source": [
    "cp_scores_all"
   ]
  },
  {
   "cell_type": "code",
   "execution_count": null,
   "id": "a29d5902",
   "metadata": {},
   "outputs": [],
   "source": [
    "#####################################################################################################################\n",
    "# Robustness of m\n",
    "#####################################################################################################################"
   ]
  },
  {
   "cell_type": "code",
   "execution_count": null,
   "id": "4cbfddbb",
   "metadata": {},
   "outputs": [],
   "source": [
    "info_props(cp_scores_all.head(170), 0.05)"
   ]
  },
  {
   "cell_type": "code",
   "execution_count": null,
   "id": "9d4db274",
   "metadata": {},
   "outputs": [],
   "source": []
  },
  {
   "cell_type": "code",
   "execution_count": null,
   "id": "ea849db7",
   "metadata": {},
   "outputs": [],
   "source": [
    "info_props(sz_scores_all, 0.05)"
   ]
  },
  {
   "cell_type": "code",
   "execution_count": null,
   "id": "f2dfa6a0",
   "metadata": {},
   "outputs": [],
   "source": [
    "info_props(sz_scores_all.head(170), 0.05)"
   ]
  },
  {
   "cell_type": "code",
   "execution_count": null,
   "id": "77f448bd",
   "metadata": {},
   "outputs": [],
   "source": [
    "# KL, caso 580"
   ]
  },
  {
   "cell_type": "code",
   "execution_count": null,
   "id": "b522fa77",
   "metadata": {},
   "outputs": [],
   "source": []
  },
  {
   "cell_type": "code",
   "execution_count": null,
   "id": "82cf6ddb",
   "metadata": {},
   "outputs": [],
   "source": [
    "shapiro(cp_scores_all.loc[:, \"sent_more_score\"])"
   ]
  },
  {
   "cell_type": "code",
   "execution_count": null,
   "id": "e4d66dcd",
   "metadata": {},
   "outputs": [],
   "source": [
    "shapiro(cp_scores_all.loc[:, \"sent_less_score\"])"
   ]
  },
  {
   "cell_type": "code",
   "execution_count": null,
   "id": "da6bf9e0",
   "metadata": {},
   "outputs": [],
   "source": [
    "shapiro(sz_scores_all.loc[:, \"sent_more_score\"])"
   ]
  },
  {
   "cell_type": "code",
   "execution_count": null,
   "id": "1756b6aa",
   "metadata": {},
   "outputs": [],
   "source": [
    "shapiro(sz_scores_all.loc[:, \"sent_less_score\"])"
   ]
  },
  {
   "cell_type": "code",
   "execution_count": null,
   "id": "aa3c7317",
   "metadata": {},
   "outputs": [],
   "source": [
    "ks_2samp(cp_scores_all.loc[:, \"sent_more_score\"], cp_scores_all.loc[:, \"sent_less_score\"])"
   ]
  },
  {
   "cell_type": "code",
   "execution_count": null,
   "id": "69baa061",
   "metadata": {},
   "outputs": [],
   "source": [
    "ks_2samp(sz_scores_all.loc[:, \"sent_more_score\"], sz_scores_all.loc[:, \"sent_less_score\"])"
   ]
  },
  {
   "cell_type": "code",
   "execution_count": null,
   "id": "c2380195",
   "metadata": {},
   "outputs": [],
   "source": [
    "# KL, 580, cp\n",
    "bias_cp.kl_div(cp_scores_all.loc[:, \"sent_more_score\"], cp_scores_all.loc[:, \"sent_less_score\"] )"
   ]
  },
  {
   "cell_type": "code",
   "execution_count": null,
   "id": "0235b8b7",
   "metadata": {},
   "outputs": [],
   "source": [
    "type(bias_cp.kl_div(cp_scores_all.loc[:, \"sent_more_score\"], cp_scores_all.loc[:, \"sent_less_score\"] ))"
   ]
  },
  {
   "cell_type": "code",
   "execution_count": null,
   "id": "6f075463",
   "metadata": {},
   "outputs": [],
   "source": [
    "# KL, 580, sz\n",
    "bias_cp.kl_div(sz_scores_all.loc[:, \"sent_more_score\"], sz_scores_all.loc[:, \"sent_less_score\"] )"
   ]
  },
  {
   "cell_type": "code",
   "execution_count": null,
   "id": "3160a564",
   "metadata": {},
   "outputs": [],
   "source": [
    "plt.hist(cp_scores_all.loc[:, \"sent_more_score\"], bins=10, edgecolor='black')\n",
    "\n",
    "# Aggiungi etichette agli assi e un titolo\n",
    "plt.xlabel('PLL')\n",
    "plt.ylabel('Frequency')\n",
    "plt.title('Histogram of $ster_{cp}$')\n",
    "\n",
    "# Mostra l'istogramma\n",
    "plt.show()"
   ]
  },
  {
   "cell_type": "code",
   "execution_count": null,
   "id": "687806a6",
   "metadata": {},
   "outputs": [],
   "source": [
    "plt.hist(cp_scores_all.loc[:, \"sent_less_score\"], bins=10, edgecolor='black')\n",
    "\n",
    "# Aggiungi etichette agli assi e un titolo\n",
    "plt.xlabel('PLL')\n",
    "plt.ylabel('Frequency')\n",
    "plt.title('Histogram of $noster_{cp}$')\n",
    "\n",
    "# Mostra l'istogramma\n",
    "plt.show()"
   ]
  },
  {
   "cell_type": "code",
   "execution_count": null,
   "id": "8c94ab18",
   "metadata": {},
   "outputs": [],
   "source": [
    "plt.hist(sz_scores_all.loc[:, \"sent_more_score\"], bins=10, edgecolor='black')\n",
    "\n",
    "# Aggiungi etichette agli assi e un titolo\n",
    "plt.xlabel('PLL')\n",
    "plt.ylabel('Frequency')\n",
    "plt.title('Histogram of $ster_{sz}$')\n",
    "\n",
    "# Mostra l'istogramma\n",
    "plt.show()"
   ]
  },
  {
   "cell_type": "code",
   "execution_count": null,
   "id": "85c0670b",
   "metadata": {},
   "outputs": [],
   "source": [
    "plt.hist(cp_scores_all.loc[:, \"sent_less_score\"], bins=10, edgecolor='black')\n",
    "\n",
    "# Aggiungi etichette agli assi e un titolo\n",
    "plt.xlabel('PLL')\n",
    "plt.ylabel('Frequency')\n",
    "plt.title('Histogram of $noster_{sz}$')\n",
    "\n",
    "# Mostra l'istogramma\n",
    "plt.show()"
   ]
  },
  {
   "cell_type": "code",
   "execution_count": null,
   "id": "3ea7aba6",
   "metadata": {},
   "outputs": [],
   "source": [
    "sl_cp_scores = (cp_scores_all.loc[:, \"sent_less_score\"]).values\n",
    "f_1 = Fitter(sl_cp_scores,\n",
    "           distributions=['gamma',\n",
    "                          'lognorm',\n",
    "                          'skewnorm',\n",
    "                          'genextreme',\n",
    "                          \"beta\",\n",
    "                          \"burr\",\n",
    "                         \"norm\"])\n",
    "f_1.fit()"
   ]
  },
  {
   "cell_type": "code",
   "execution_count": null,
   "id": "9b83769f",
   "metadata": {},
   "outputs": [],
   "source": [
    "f_1.summary()"
   ]
  },
  {
   "cell_type": "code",
   "execution_count": null,
   "id": "d31a9b0f",
   "metadata": {},
   "outputs": [],
   "source": [
    "f_1.get_best()"
   ]
  },
  {
   "cell_type": "code",
   "execution_count": null,
   "id": "b8736ddc",
   "metadata": {},
   "outputs": [],
   "source": [
    "sl_cp_scores = (cp_scores_all.loc[:, \"sent_more_score\"]).values\n",
    "f_2 = Fitter(sl_cp_scores,\n",
    "           distributions = ['gamma',\n",
    "                          'lognorm',\n",
    "                          'skewnorm',\n",
    "                          'genextreme',\n",
    "                          \"beta\",\n",
    "                          \"burr\",\n",
    "                          \"norm\"])\n",
    "f_2.fit()"
   ]
  },
  {
   "cell_type": "code",
   "execution_count": null,
   "id": "6c4e60a2",
   "metadata": {},
   "outputs": [],
   "source": [
    "f_2.summary()"
   ]
  },
  {
   "cell_type": "code",
   "execution_count": null,
   "id": "7cffb012",
   "metadata": {},
   "outputs": [],
   "source": [
    "f_2.get_best()"
   ]
  },
  {
   "cell_type": "code",
   "execution_count": null,
   "id": "aa4b17a1",
   "metadata": {},
   "outputs": [],
   "source": [
    "sl_cp_scores = (sz_scores_all.loc[:, \"sent_less_score\"]).values\n",
    "f_3 = Fitter(sl_cp_scores,\n",
    "           distributions=['gamma',\n",
    "                          'lognorm',\n",
    "                          'skewnorm',\n",
    "                          'genextreme',\n",
    "                          \"beta\",\n",
    "                          \"burr\",\n",
    "                          \"norm\"])\n",
    "f_3.fit()"
   ]
  },
  {
   "cell_type": "code",
   "execution_count": null,
   "id": "378ec979",
   "metadata": {},
   "outputs": [],
   "source": [
    "f_3.summary()"
   ]
  },
  {
   "cell_type": "code",
   "execution_count": null,
   "id": "9b53b57c",
   "metadata": {},
   "outputs": [],
   "source": [
    "f_3.get_best()"
   ]
  },
  {
   "cell_type": "code",
   "execution_count": null,
   "id": "7d3a68dc",
   "metadata": {},
   "outputs": [],
   "source": [
    "sl_cp_scores = (sz_scores_all.loc[:, \"sent_more_score\"]).values\n",
    "f_4 = Fitter(sl_cp_scores,\n",
    "           distributions = ['gamma',\n",
    "                          'lognorm',\n",
    "                          'skewnorm',\n",
    "                          'genextreme',\n",
    "                          \"beta\",\n",
    "                          \"burr\",\n",
    "                          \"norm\"]) \n",
    "f_4.fit()"
   ]
  },
  {
   "cell_type": "code",
   "execution_count": null,
   "id": "666a00f6",
   "metadata": {},
   "outputs": [],
   "source": [
    "f_4.summary()"
   ]
  },
  {
   "cell_type": "code",
   "execution_count": null,
   "id": "78abc3c0",
   "metadata": {},
   "outputs": [],
   "source": [
    "f_4.get_best()"
   ]
  },
  {
   "cell_type": "code",
   "execution_count": null,
   "id": "eedabfa0",
   "metadata": {},
   "outputs": [],
   "source": [
    "# 3) Test sulla media della distribuzione delle differenze tra ster, no ster per cp e sz. Esperimenti svolti sui 580 "
   ]
  },
  {
   "cell_type": "code",
   "execution_count": null,
   "id": "cf1584f7",
   "metadata": {},
   "outputs": [],
   "source": [
    "#cp_scores_all\n",
    "#sz_scores_all"
   ]
  },
  {
   "cell_type": "code",
   "execution_count": null,
   "id": "1fb98e55",
   "metadata": {},
   "outputs": [],
   "source": [
    "cp_scores_all"
   ]
  },
  {
   "cell_type": "code",
   "execution_count": null,
   "id": "b2c5552c",
   "metadata": {},
   "outputs": [],
   "source": [
    "diff_scores_cp = cp_scores_all.loc[:,'sent_more_score'] - cp_scores_all.loc[:,'sent_less_score']\n",
    "plt.hist(diff_scores_cp, bins=100, edgecolor='black')\n",
    "\n",
    "# Aggiungi etichette agli assi e un titolo\n",
    "plt.xlabel('Valori')\n",
    "plt.ylabel('Frequenza')\n",
    "plt.title('Istogramma del Vettore')\n",
    "\n",
    "# Mostra l'istogramma\n",
    "plt.show()"
   ]
  },
  {
   "cell_type": "code",
   "execution_count": null,
   "id": "8155b964",
   "metadata": {},
   "outputs": [],
   "source": [
    "shapiro(diff_scores_cp)"
   ]
  },
  {
   "cell_type": "code",
   "execution_count": null,
   "id": "8ef00754",
   "metadata": {},
   "outputs": [],
   "source": [
    "diff_scores_sz = sz_scores_all.loc[:,'sent_more_score'] - sz_scores_all.loc[:,'sent_less_score']\n",
    "plt.hist(diff_scores_sz, bins=100, edgecolor='black')\n",
    "\n",
    "# Aggiungi etichette agli assi e un titolo\n",
    "plt.xlabel('Valori')\n",
    "plt.ylabel('Frequenza')\n",
    "plt.title('Istogramma del Vettore')\n",
    "\n",
    "# Mostra l'istogramma\n",
    "plt.show()"
   ]
  },
  {
   "cell_type": "code",
   "execution_count": null,
   "id": "5fcb8fa4",
   "metadata": {},
   "outputs": [],
   "source": [
    "shapiro(diff_scores_sz)"
   ]
  },
  {
   "cell_type": "code",
   "execution_count": null,
   "id": "0cc5f3e3",
   "metadata": {},
   "outputs": [],
   "source": [
    "# Sarebbe interessante studiare gli outliers.. vediamo se c'è tempo"
   ]
  },
  {
   "cell_type": "code",
   "execution_count": null,
   "id": "12857eec",
   "metadata": {},
   "outputs": [],
   "source": [
    "# Shapiro suggerisce che le due distribuzioni NON sono normali. Usiamo il Z score approssimato."
   ]
  },
  {
   "cell_type": "code",
   "execution_count": null,
   "id": "ac7f0757",
   "metadata": {},
   "outputs": [],
   "source": [
    "q_low = diff_scores_sz.quantile(0.01)\n",
    "q_hi  = diff_scores_sz.quantile(0.99)"
   ]
  },
  {
   "cell_type": "code",
   "execution_count": null,
   "id": "41d14093",
   "metadata": {},
   "outputs": [],
   "source": [
    "\n",
    "diff_scores_sz = diff_scores_sz[(diff_scores_sz < q_hi) & (diff_scores_sz > q_low)]\n",
    "plt.hist(diff_scores_sz, bins=100, edgecolor='black')\n",
    "\n",
    "# Aggiungi etichette agli assi e un titolo\n",
    "plt.xlabel('PLL differences')\n",
    "plt.ylabel('Frequency')\n",
    "plt.title('Histogram of $diff_{sz}$')\n",
    "\n",
    "# Mostra l'istogramma\n",
    "plt.show()"
   ]
  },
  {
   "cell_type": "code",
   "execution_count": null,
   "id": "edbb7894",
   "metadata": {},
   "outputs": [],
   "source": [
    "shapiro(diff_scores_sz)"
   ]
  },
  {
   "cell_type": "code",
   "execution_count": null,
   "id": "0f5353a2",
   "metadata": {},
   "outputs": [],
   "source": [
    "q_low = diff_scores_cp.quantile(0.01)\n",
    "q_hi  = diff_scores_cp.quantile(0.99)"
   ]
  },
  {
   "cell_type": "code",
   "execution_count": null,
   "id": "a5c25265",
   "metadata": {},
   "outputs": [],
   "source": [
    "\n",
    "diff_scores_cp = diff_scores_cp[(diff_scores_cp < q_hi) & (diff_scores_cp > q_low)]\n",
    "plt.hist(diff_scores_cp, bins=100, edgecolor='black')\n",
    "\n",
    "# Aggiungi etichette agli assi e un titolo\n",
    "plt.xlabel('PLL differences')\n",
    "plt.ylabel('Frequency')\n",
    "plt.title('Histogram of $diff_{cp}$')\n",
    "\n",
    "# Mostra l'istogramma\n",
    "plt.show()"
   ]
  },
  {
   "cell_type": "code",
   "execution_count": null,
   "id": "4615787e",
   "metadata": {},
   "outputs": [],
   "source": [
    "shapiro(diff_scores_cp)"
   ]
  },
  {
   "cell_type": "code",
   "execution_count": null,
   "id": "9373966b",
   "metadata": {},
   "outputs": [],
   "source": [
    "from statsmodels.stats.weightstats import ztest"
   ]
  },
  {
   "cell_type": "code",
   "execution_count": null,
   "id": "2a7eb3d9",
   "metadata": {},
   "outputs": [],
   "source": [
    "ztest_Score_cp, p_value_cp = ztest(diff_scores_cp,value = 0.0, alternative='two-sided')\n",
    "ztest_Score_sz, p_value_sz = ztest(diff_scores_sz,value = 0.0, alternative='two-sided')"
   ]
  },
  {
   "cell_type": "code",
   "execution_count": null,
   "id": "e2a45b72",
   "metadata": {},
   "outputs": [],
   "source": [
    "p_value_cp"
   ]
  },
  {
   "cell_type": "code",
   "execution_count": null,
   "id": "3a42e886",
   "metadata": {},
   "outputs": [],
   "source": [
    "p_value_sz"
   ]
  },
  {
   "cell_type": "code",
   "execution_count": null,
   "id": "ead7277b",
   "metadata": {},
   "outputs": [],
   "source": [
    "from scipy.stats import wilcoxon\n",
    "res = wilcoxon(diff_scores_cp)\n",
    "res.statistic, res.pvalue"
   ]
  },
  {
   "cell_type": "code",
   "execution_count": null,
   "id": "f50fd337",
   "metadata": {},
   "outputs": [],
   "source": [
    "scores_cp_par"
   ]
  },
  {
   "cell_type": "code",
   "execution_count": null,
   "id": "d8dc38d7",
   "metadata": {},
   "outputs": [],
   "source": [
    "# Robustezza"
   ]
  },
  {
   "cell_type": "code",
   "execution_count": null,
   "id": "8409ee14",
   "metadata": {},
   "outputs": [],
   "source": [
    "scores_cp = scores_cp.head(170)\n",
    "#scores_cp_par = pd.read_csv(os.getcwd()+\"/data/cp_beto_par.csv\")\n",
    "#scores_cp_ran = pd.read_csv(os.getcwd()+\"/data/cp_beto_ran.csv\")\n",
    "scores_sal = scores_sal.head(170)\n",
    "#scores_sal_par = pd.read_csv(os.getcwd()+\"/data/sz_beto_par.csv\")\n",
    "#scores_sal_ran = pd.read_csv(os.getcwd()+\"/data/sz_beto_ran.csv\")"
   ]
  },
  {
   "cell_type": "code",
   "execution_count": null,
   "id": "b4de54c1",
   "metadata": {},
   "outputs": [],
   "source": [
    "type(bias_cp.agree(scores_cp, scores_cp_par, \"my_agree\", -3.5, 3.5))"
   ]
  },
  {
   "cell_type": "code",
   "execution_count": null,
   "id": "58110164",
   "metadata": {},
   "outputs": [],
   "source": [
    "s = sum(bias_cp.agree(scores_cp, scores_cp_par, \"my_agree\", -3.5, 3.5))"
   ]
  },
  {
   "cell_type": "code",
   "execution_count": null,
   "id": "343854fb",
   "metadata": {},
   "outputs": [],
   "source": [
    "s"
   ]
  },
  {
   "cell_type": "code",
   "execution_count": null,
   "id": "9b5e2b3c",
   "metadata": {},
   "outputs": [],
   "source": [
    "pr, p_value = s/170, test_pr_small(s, 170, 0.8, 0.05, alt = \"smaller\")  "
   ]
  },
  {
   "cell_type": "code",
   "execution_count": null,
   "id": "bd121e95",
   "metadata": {},
   "outputs": [],
   "source": [
    "pr"
   ]
  },
  {
   "cell_type": "code",
   "execution_count": null,
   "id": "5790df2d",
   "metadata": {},
   "outputs": [],
   "source": [
    "p_value"
   ]
  },
  {
   "cell_type": "code",
   "execution_count": null,
   "id": "ac3d05fd",
   "metadata": {},
   "outputs": [],
   "source": []
  },
  {
   "cell_type": "code",
   "execution_count": null,
   "id": "75fabe4c",
   "metadata": {},
   "outputs": [],
   "source": [
    "sm.stats.proportions_ztest([98,133], [170,170])"
   ]
  },
  {
   "cell_type": "code",
   "execution_count": null,
   "id": "ac7b42eb",
   "metadata": {},
   "outputs": [],
   "source": []
  },
  {
   "cell_type": "code",
   "execution_count": null,
   "id": "a26145b3",
   "metadata": {},
   "outputs": [],
   "source": []
  },
  {
   "cell_type": "code",
   "execution_count": null,
   "id": "4435267c",
   "metadata": {},
   "outputs": [],
   "source": [
    "a = scores_cp.iloc[:,3] - scores_cp.iloc[:,4] > 0"
   ]
  },
  {
   "cell_type": "code",
   "execution_count": null,
   "id": "f31121e0",
   "metadata": {},
   "outputs": [],
   "source": [
    "b = scores_cp_par.iloc[:,3] - scores_cp_par.iloc[:,4] > 0"
   ]
  },
  {
   "cell_type": "code",
   "execution_count": null,
   "id": "1b928cfb",
   "metadata": {},
   "outputs": [],
   "source": [
    "sum((scores_cp.iloc[:,3] - scores_cp.iloc[:,4]).between(-0.5, 0.5))"
   ]
  },
  {
   "cell_type": "code",
   "execution_count": null,
   "id": "fa949970",
   "metadata": {},
   "outputs": [],
   "source": [
    "v = ((scores_cp.iloc[:,3] - scores_cp.iloc[:,4])-(scores_cp_par.iloc[:,3] - scores_cp_par.iloc[:,4]) ).between(-5, 5)"
   ]
  },
  {
   "cell_type": "code",
   "execution_count": null,
   "id": "ee3309fe",
   "metadata": {},
   "outputs": [],
   "source": [
    "a = scores_cp.iloc[:,3] - scores_cp.iloc[:,4]\n",
    "b = scores_cp_par.iloc[:,3] - scores_cp_par.iloc[:,4]\n",
    "c = scores_cp_ran.iloc[:,3] - scores_cp_par.iloc[:,4]"
   ]
  },
  {
   "cell_type": "code",
   "execution_count": null,
   "id": "39aba44f",
   "metadata": {},
   "outputs": [],
   "source": [
    "sum(a.between(-0.25,0.25))/170 * 100"
   ]
  },
  {
   "cell_type": "code",
   "execution_count": null,
   "id": "166fc85f",
   "metadata": {},
   "outputs": [],
   "source": [
    "sum(b.between(-0.25,0.25))/170 * 100"
   ]
  },
  {
   "cell_type": "code",
   "execution_count": null,
   "id": "9a472165",
   "metadata": {},
   "outputs": [],
   "source": [
    "plt.hist(a, bins=10, edgecolor='black')\n",
    "# Aggiungi etichette agli assi e un titolo\n",
    "plt.xlabel('PLL')\n",
    "plt.ylabel('Frequency')\n",
    "plt.title('Histogram of $diff_{or}$')\n",
    "# Mostra l'istogramma\n",
    "plt.show()"
   ]
  },
  {
   "cell_type": "code",
   "execution_count": null,
   "id": "ed792ddf",
   "metadata": {},
   "outputs": [],
   "source": [
    "plt.hist(b, bins=10, edgecolor='black')\n",
    "# Aggiungi etichette agli assi e un titolo\n",
    "plt.xlabel('PLL')\n",
    "plt.ylabel('Frequency')\n",
    "plt.title('Histogram of $diff_{par}$')\n",
    "# Mostra l'istogramma\n",
    "plt.show()"
   ]
  },
  {
   "cell_type": "code",
   "execution_count": null,
   "id": "1e115e4e",
   "metadata": {},
   "outputs": [],
   "source": [
    "plt.hist(c, bins=10, edgecolor='black')\n",
    "# Aggiungi etichette agli assi e un titolo\n",
    "plt.xlabel('PLL')\n",
    "plt.ylabel('Frequency')\n",
    "plt.title('Histogram of $diff_{ran}$')\n",
    "# Mostra l'istogramma\n",
    "plt.show()"
   ]
  },
  {
   "cell_type": "code",
   "execution_count": null,
   "id": "abd22f45",
   "metadata": {},
   "outputs": [],
   "source": [
    "ks_2samp(a, b)"
   ]
  },
  {
   "cell_type": "code",
   "execution_count": null,
   "id": "be4c81a0",
   "metadata": {},
   "outputs": [],
   "source": [
    "ztest_Score, p_value = ztest((a-b), value = 0.0, alternative='two-sided')"
   ]
  },
  {
   "cell_type": "code",
   "execution_count": null,
   "id": "2662532e",
   "metadata": {},
   "outputs": [],
   "source": [
    "ztest_Score, p_value"
   ]
  },
  {
   "cell_type": "code",
   "execution_count": null,
   "id": "f7a00c98",
   "metadata": {},
   "outputs": [],
   "source": [
    "ztest_Score, p_value = ztest((a-c), value = 0.0, alternative='two-sided')"
   ]
  },
  {
   "cell_type": "code",
   "execution_count": null,
   "id": "342b4acc",
   "metadata": {},
   "outputs": [],
   "source": [
    "ztest_Score, p_value"
   ]
  },
  {
   "cell_type": "code",
   "execution_count": null,
   "id": "ccfc7875",
   "metadata": {},
   "outputs": [],
   "source": []
  },
  {
   "cell_type": "code",
   "execution_count": null,
   "id": "2ef37a1f-622a-4358-b9a6-c56853afc6a2",
   "metadata": {},
   "outputs": [],
   "source": []
  },
  {
   "cell_type": "code",
   "execution_count": null,
   "id": "2d6fc3f4-93b6-46ff-a5c6-a27495d7aa9d",
   "metadata": {},
   "outputs": [],
   "source": []
  },
  {
   "cell_type": "code",
   "execution_count": null,
   "id": "7055e248-ef0b-4c32-b051-8661be1523b2",
   "metadata": {},
   "outputs": [],
   "source": []
  },
  {
   "cell_type": "code",
   "execution_count": null,
   "id": "3d793a8b-7c16-4417-952d-fe47233d6f88",
   "metadata": {},
   "outputs": [],
   "source": []
  },
  {
   "cell_type": "code",
   "execution_count": null,
   "id": "72a7a8ee-f56f-46d2-a40a-f15d8380a169",
   "metadata": {},
   "outputs": [],
   "source": []
  },
  {
   "cell_type": "code",
   "execution_count": null,
   "id": "c39078a3-4575-4ae7-bb2a-55c884f0b5b0",
   "metadata": {},
   "outputs": [],
   "source": []
  },
  {
   "cell_type": "code",
   "execution_count": null,
   "id": "f2842f73-a02a-4117-b8bc-1c41fd2affd2",
   "metadata": {},
   "outputs": [],
   "source": []
  },
  {
   "cell_type": "code",
   "execution_count": null,
   "id": "037a5c99-8433-4c87-9d9e-e96c5af5f2e9",
   "metadata": {},
   "outputs": [],
   "source": []
  }
 ],
 "metadata": {
  "kernelspec": {
   "display_name": "Python 3 (ipykernel)",
   "language": "python",
   "name": "python3"
  },
  "language_info": {
   "codemirror_mode": {
    "name": "ipython",
    "version": 3
   },
   "file_extension": ".py",
   "mimetype": "text/x-python",
   "name": "python",
   "nbconvert_exporter": "python",
   "pygments_lexer": "ipython3",
   "version": "3.8.0"
  }
 },
 "nbformat": 4,
 "nbformat_minor": 5
}
