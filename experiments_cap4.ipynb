{
 "cells": [
  {
   "cell_type": "code",
   "execution_count": 69,
   "id": "5e001513",
   "metadata": {},
   "outputs": [],
   "source": [
    "import os\n",
    "from biashandler import *\n",
    "import numpy as np\n",
    "import statsmodels.api as sm\n",
    "from statsmodels.stats.weightstats import ztest\n",
    "import pandas as pd\n",
    "from scipy import stats\n",
    "import matplotlib.pyplot as plt\n",
    "import numpy as np\n",
    "import pandas as pd\n",
    "import seaborn as sns\n",
    "from fitter import Fitter, get_common_distributions, get_distributions\n",
    "from scipy.stats import shapiro \n",
    "from scipy.stats import ks_2samp"
   ]
  },
  {
   "cell_type": "code",
   "execution_count": 2,
   "id": "f7a39f3f",
   "metadata": {},
   "outputs": [],
   "source": [
    "# Loading of the Spanish CrowS-Pairs dataset, with original (1503),\n",
    "# paraphrased (170), random (170) examples   \n",
    "path_crows = os.getcwd()+'/data/crowspairs/es_en.csv'"
   ]
  },
  {
   "cell_type": "code",
   "execution_count": 3,
   "id": "b8c98b61",
   "metadata": {},
   "outputs": [],
   "source": [
    "#  Initiation of two BiasInfo objects. They use the same model (\"BETO\", see thesis)\n",
    "#  and the difference between the object is only about the used metric for \n",
    "#  computing the PLLs. The two metrics are explained in the thesis (see Mcrows for \"cp\"\n",
    "#  and Msal for \"sz\").\n",
    "bias_cp = BiasInfo(path_crows, \"beto\", \"cp\")\n",
    "bias_sz = BiasInfo(path_crows, \"beto\", \"sz\")"
   ]
  },
  {
   "cell_type": "code",
   "execution_count": 4,
   "id": "f95e746e",
   "metadata": {},
   "outputs": [],
   "source": [
    "# Docs of sent_to_df is reported in biashandler.py\n",
    "\n",
    "# PLLs for original examples using the two metrics. Remove # for computing.\n",
    "# df_cp_or = bias_cp.sent_to_df(\"sent_more\", \"sent_less\")\n",
    "# df_sz_or = bias_sz.sent_to_df(\"sent_more\", \"sent_less\")"
   ]
  },
  {
   "cell_type": "code",
   "execution_count": null,
   "id": "17b86e71",
   "metadata": {},
   "outputs": [],
   "source": [
    "# PLLs for paraphrased examples using the two metrics. Remove # for computing.\n",
    "#df_cp_par = bias_cp.sent_to_df(\"sent_more_par\", \"sent_less_par\")\n",
    "#df_sz_par = bias_sz.sent_to_df(\"sent_more_par\", \"sent_less_par\")"
   ]
  },
  {
   "cell_type": "code",
   "execution_count": null,
   "id": "add0380e",
   "metadata": {},
   "outputs": [],
   "source": [
    "# PLLs for random examples using the two metrics. Remove # for computing.\n",
    "#df_cp_ran = bias_cp.sent_to_df(\"sent_more_ran\", \"sent_less_ran\")\n",
    "#df_sz_ran = bias_sz.sent_to_df(\"sent_more_ran\", \"sent_less_ran\")"
   ]
  },
  {
   "cell_type": "code",
   "execution_count": null,
   "id": "4f230242",
   "metadata": {},
   "outputs": [],
   "source": [
    "# The dfs are saved as csv files. In fact, the computing of PLLs is heavy and for this\n",
    "# reason the dfs are saved as csv files.\n",
    "#df_cp_or.to_csv(os.getcwd()+\"/data/crowspairs/cp_beto_or.csv\")\n",
    "#df_sz_or.to_csv(os.getcwd()+\"/data/crowspairs/sz_beto_or.csv\")\n",
    "#df_cp_par.to_csv(os.getcwd()+\"/data/crowspairs/cp_beto_par.csv\")\n",
    "#df_sz_par.to_csv(os.getcwd()+\"/data/crowspairs/sz_beto_par.csv\")\n",
    "#df_cp_ran.to_csv(os.getcwd()+\"/data/crowspairs/cp_beto_ran.csv\")\n",
    "#df_sz_ran.to_csv(os.getcwd()+\"/data/crowspairs/sz_beto_ran.csv\")"
   ]
  },
  {
   "cell_type": "code",
   "execution_count": 6,
   "id": "a1675ff3",
   "metadata": {},
   "outputs": [],
   "source": [
    "# Loading of the csv files created above\n",
    "scores_cp = pd.read_csv(os.getcwd()+\"/data/crowspairs/csv_experiments_ch4/cp_beto_or.csv\")\n",
    "scores_cp_par = pd.read_csv(os.getcwd()+\"/data/crowspairs/csv_experiments_ch4/cp_beto_par.csv\")\n",
    "scores_cp_ran = pd.read_csv(os.getcwd()+\"/data/crowspairs/csv_experiments_ch4/cp_beto_ran.csv\")\n",
    "scores_sal = pd.read_csv(os.getcwd()+\"/data/crowspairs/csv_experiments_ch4/sz_beto_or.csv\")\n",
    "scores_sal_par = pd.read_csv(os.getcwd()+\"/data/crowspairs/csv_experiments_ch4/sz_beto_par.csv\")\n",
    "scores_sal_ran = pd.read_csv(os.getcwd()+\"/data/crowspairs/csv_experiments_ch4/sz_beto_ran.csv\")"
   ]
  },
  {
   "cell_type": "code",
   "execution_count": 7,
   "id": "8e322b5e",
   "metadata": {},
   "outputs": [],
   "source": [
    "# The PLL values of original examples, paraphrased examples, and random examples are combined.\n",
    "cp_scores_all = scores_to_df(scores_cp, scores_cp_par, scores_cp_ran)\n",
    "sz_scores_all = scores_to_df(scores_sal, scores_sal_par, scores_sal_ran)"
   ]
  },
  {
   "cell_type": "code",
   "execution_count": null,
   "id": "b341da9c",
   "metadata": {},
   "outputs": [],
   "source": [
    "#####################################################################################################################\n",
    "# Detecting bias in m\n",
    "#####################################################################################################################"
   ]
  },
  {
   "cell_type": "code",
   "execution_count": 8,
   "id": "a3cee0a8",
   "metadata": {},
   "outputs": [
    {
     "data": {
      "text/html": [
       "<div>\n",
       "<style scoped>\n",
       "    .dataframe tbody tr th:only-of-type {\n",
       "        vertical-align: middle;\n",
       "    }\n",
       "\n",
       "    .dataframe tbody tr th {\n",
       "        vertical-align: top;\n",
       "    }\n",
       "\n",
       "    .dataframe thead th {\n",
       "        text-align: right;\n",
       "    }\n",
       "</style>\n",
       "<table border=\"1\" class=\"dataframe\">\n",
       "  <thead>\n",
       "    <tr style=\"text-align: right;\">\n",
       "      <th></th>\n",
       "      <th>prop</th>\n",
       "      <th>isBias</th>\n",
       "      <th>p_value</th>\n",
       "    </tr>\n",
       "  </thead>\n",
       "  <tbody>\n",
       "    <tr>\n",
       "      <th>or</th>\n",
       "      <td>0.53</td>\n",
       "      <td>True</td>\n",
       "      <td>0.01624</td>\n",
       "    </tr>\n",
       "    <tr>\n",
       "      <th>par</th>\n",
       "      <td>0.59</td>\n",
       "      <td>True</td>\n",
       "      <td>0.01941</td>\n",
       "    </tr>\n",
       "    <tr>\n",
       "      <th>ran</th>\n",
       "      <td>0.52</td>\n",
       "      <td>False</td>\n",
       "      <td>0.53905</td>\n",
       "    </tr>\n",
       "  </tbody>\n",
       "</table>\n",
       "</div>"
      ],
      "text/plain": [
       "     prop  isBias  p_value\n",
       "or   0.53    True  0.01624\n",
       "par  0.59    True  0.01941\n",
       "ran  0.52   False  0.53905"
      ]
     },
     "execution_count": 8,
     "metadata": {},
     "output_type": "execute_result"
    }
   ],
   "source": [
    "# Information about the prop. For detecting bias in m, only the original examples are considered. \n",
    "# (paraphrased and random examples are used for robustness analysis)\n",
    "info_props(cp_scores_all, 0.05)"
   ]
  },
  {
   "cell_type": "code",
   "execution_count": 9,
   "id": "ac73d707",
   "metadata": {},
   "outputs": [
    {
     "data": {
      "text/html": [
       "<div>\n",
       "<style scoped>\n",
       "    .dataframe tbody tr th:only-of-type {\n",
       "        vertical-align: middle;\n",
       "    }\n",
       "\n",
       "    .dataframe tbody tr th {\n",
       "        vertical-align: top;\n",
       "    }\n",
       "\n",
       "    .dataframe thead th {\n",
       "        text-align: right;\n",
       "    }\n",
       "</style>\n",
       "<table border=\"1\" class=\"dataframe\">\n",
       "  <thead>\n",
       "    <tr style=\"text-align: right;\">\n",
       "      <th></th>\n",
       "      <th>prop</th>\n",
       "      <th>isBias</th>\n",
       "      <th>p_value</th>\n",
       "    </tr>\n",
       "  </thead>\n",
       "  <tbody>\n",
       "    <tr>\n",
       "      <th>or</th>\n",
       "      <td>0.60</td>\n",
       "      <td>True</td>\n",
       "      <td>0.00000</td>\n",
       "    </tr>\n",
       "    <tr>\n",
       "      <th>par</th>\n",
       "      <td>0.53</td>\n",
       "      <td>False</td>\n",
       "      <td>0.44231</td>\n",
       "    </tr>\n",
       "    <tr>\n",
       "      <th>ran</th>\n",
       "      <td>0.56</td>\n",
       "      <td>False</td>\n",
       "      <td>0.08882</td>\n",
       "    </tr>\n",
       "  </tbody>\n",
       "</table>\n",
       "</div>"
      ],
      "text/plain": [
       "     prop  isBias  p_value\n",
       "or   0.60    True  0.00000\n",
       "par  0.53   False  0.44231\n",
       "ran  0.56   False  0.08882"
      ]
     },
     "execution_count": 9,
     "metadata": {},
     "output_type": "execute_result"
    }
   ],
   "source": [
    "info_props(sz_scores_all, 0.05)"
   ]
  },
  {
   "cell_type": "code",
   "execution_count": 11,
   "id": "306ec701",
   "metadata": {},
   "outputs": [
    {
     "data": {
      "text/plain": [
       "ShapiroResult(statistic=0.9322236776351929, pvalue=1.444202788150292e-25)"
      ]
     },
     "execution_count": 11,
     "metadata": {},
     "output_type": "execute_result"
    }
   ],
   "source": [
    "# test for normality, ster_cp distr.\n",
    "shapiro(cp_scores_all.loc[:, \"sent_more_score\"])"
   ]
  },
  {
   "cell_type": "code",
   "execution_count": 12,
   "id": "285ecbd8",
   "metadata": {},
   "outputs": [
    {
     "data": {
      "text/plain": [
       "ShapiroResult(statistic=0.9313710927963257, pvalue=1.038064160592109e-25)"
      ]
     },
     "execution_count": 12,
     "metadata": {},
     "output_type": "execute_result"
    }
   ],
   "source": [
    "# test for normality, noster_cp distr.\n",
    "shapiro(cp_scores_all.loc[:, \"sent_less_score\"])"
   ]
  },
  {
   "cell_type": "code",
   "execution_count": 13,
   "id": "77d684f1",
   "metadata": {},
   "outputs": [
    {
     "data": {
      "text/plain": [
       "ShapiroResult(statistic=0.9449213743209839, pvalue=3.000623672891544e-23)"
      ]
     },
     "execution_count": 13,
     "metadata": {},
     "output_type": "execute_result"
    }
   ],
   "source": [
    "# test for normality, ster_sz distr.\n",
    "shapiro(sz_scores_all.loc[:, \"sent_more_score\"])"
   ]
  },
  {
   "cell_type": "code",
   "execution_count": 14,
   "id": "c492d9ba",
   "metadata": {},
   "outputs": [
    {
     "data": {
      "text/plain": [
       "ShapiroResult(statistic=0.9468491673469543, pvalue=7.301970431231978e-23)"
      ]
     },
     "execution_count": 14,
     "metadata": {},
     "output_type": "execute_result"
    }
   ],
   "source": [
    "# test for normality, noster_sz distr.\n",
    "shapiro(sz_scores_all.loc[:, \"sent_less_score\"])"
   ]
  },
  {
   "cell_type": "code",
   "execution_count": 48,
   "id": "ee6c00d9",
   "metadata": {},
   "outputs": [
    {
     "data": {
      "image/png": "[encoded data removed]",
      "text/plain": [
       "<Figure size 432x288 with 1 Axes>"
      ]
     },
     "metadata": {
      "needs_background": "light"
     },
     "output_type": "display_data"
    }
   ],
   "source": [
    "plt.hist(cp_scores_all.loc[:, \"sent_more_score\"], bins=10, edgecolor='black')\n",
    "plt.xlabel('PLL')\n",
    "plt.ylabel('Frequency')\n",
    "plt.title('Histogram of $ster_{cp}$')\n",
    "plt.show()"
   ]
  },
  {
   "cell_type": "code",
   "execution_count": 49,
   "id": "ebafae6d",
   "metadata": {},
   "outputs": [
    {
     "data": {
      "image/png": "[encoded data removed]",
      "text/plain": [
       "<Figure size 432x288 with 1 Axes>"
      ]
     },
     "metadata": {
      "needs_background": "light"
     },
     "output_type": "display_data"
    }
   ],
   "source": [
    "plt.hist(cp_scores_all.loc[:, \"sent_less_score\"], bins=10, edgecolor='black')\n",
    "plt.xlabel('PLL')\n",
    "plt.ylabel('Frequency')\n",
    "plt.title('Histogram of $noster_{cp}$')\n",
    "plt.show()"
   ]
  },
  {
   "cell_type": "code",
   "execution_count": 50,
   "id": "5245ece7",
   "metadata": {},
   "outputs": [
    {
     "data": {
      "image/png": "[encoded data removed]",
      "text/plain": [
       "<Figure size 432x288 with 1 Axes>"
      ]
     },
     "metadata": {
      "needs_background": "light"
     },
     "output_type": "display_data"
    }
   ],
   "source": [
    "plt.hist(sz_scores_all.loc[:, \"sent_more_score\"], bins=10, edgecolor='black')\n",
    "plt.xlabel('PLL')\n",
    "plt.ylabel('Frequency')\n",
    "plt.title('Histogram of $ster_{sz}$')\n",
    "plt.show()"
   ]
  },
  {
   "cell_type": "code",
   "execution_count": 51,
   "id": "6eb21f19",
   "metadata": {},
   "outputs": [
    {
     "data": {
      "image/png": "[encoded data removed]",
      "text/plain": [
       "<Figure size 432x288 with 1 Axes>"
      ]
     },
     "metadata": {
      "needs_background": "light"
     },
     "output_type": "display_data"
    }
   ],
   "source": [
    "plt.hist(cp_scores_all.loc[:, \"sent_less_score\"], bins=10, edgecolor='black')\n",
    "plt.xlabel('PLL')\n",
    "plt.ylabel('Frequency')\n",
    "plt.title('Histogram of $noster_{sz}$')\n",
    "plt.show()"
   ]
  },
  {
   "cell_type": "code",
   "execution_count": 32,
   "id": "1b573680",
   "metadata": {},
   "outputs": [
    {
     "name": "stderr",
     "output_type": "stream",
     "text": [
      "Fitting 7 distributions: 100%|██████████| 7/7 [00:01<00:00,  5.25it/s]\n"
     ]
    }
   ],
   "source": [
    "# Fitting distribution for ster_cp\n",
    "sl_cp_scores = (cp_scores_all.loc[:, \"sent_more_score\"]).values\n",
    "f_1 = Fitter(sl_cp_scores,\n",
    "           distributions=['gamma',\n",
    "                          'lognorm',\n",
    "                          'skewnorm',\n",
    "                          'genextreme',\n",
    "                          \"beta\",\n",
    "                          \"burr\",\n",
    "                         \"norm\"])\n",
    "f_1.fit()"
   ]
  },
  {
   "cell_type": "code",
   "execution_count": 33,
   "id": "5a60d8ed",
   "metadata": {},
   "outputs": [
    {
     "data": {
      "text/html": [
       "<div>\n",
       "<style scoped>\n",
       "    .dataframe tbody tr th:only-of-type {\n",
       "        vertical-align: middle;\n",
       "    }\n",
       "\n",
       "    .dataframe tbody tr th {\n",
       "        vertical-align: top;\n",
       "    }\n",
       "\n",
       "    .dataframe thead th {\n",
       "        text-align: right;\n",
       "    }\n",
       "</style>\n",
       "<table border=\"1\" class=\"dataframe\">\n",
       "  <thead>\n",
       "    <tr style=\"text-align: right;\">\n",
       "      <th></th>\n",
       "      <th>sumsquare_error</th>\n",
       "      <th>aic</th>\n",
       "      <th>bic</th>\n",
       "      <th>kl_div</th>\n",
       "      <th>ks_statistic</th>\n",
       "      <th>ks_pvalue</th>\n",
       "    </tr>\n",
       "  </thead>\n",
       "  <tbody>\n",
       "    <tr>\n",
       "      <th>genextreme</th>\n",
       "      <td>0.000217</td>\n",
       "      <td>1446.596375</td>\n",
       "      <td>-23651.948096</td>\n",
       "      <td>inf</td>\n",
       "      <td>0.036306</td>\n",
       "      <td>3.710846e-02</td>\n",
       "    </tr>\n",
       "    <tr>\n",
       "      <th>skewnorm</th>\n",
       "      <td>0.000244</td>\n",
       "      <td>1456.124634</td>\n",
       "      <td>-23473.868027</td>\n",
       "      <td>inf</td>\n",
       "      <td>0.061442</td>\n",
       "      <td>2.246446e-05</td>\n",
       "    </tr>\n",
       "    <tr>\n",
       "      <th>beta</th>\n",
       "      <td>0.000259</td>\n",
       "      <td>1394.150315</td>\n",
       "      <td>-23380.171247</td>\n",
       "      <td>inf</td>\n",
       "      <td>0.047449</td>\n",
       "      <td>2.223355e-03</td>\n",
       "    </tr>\n",
       "    <tr>\n",
       "      <th>norm</th>\n",
       "      <td>0.000386</td>\n",
       "      <td>1792.254838</td>\n",
       "      <td>-22792.570924</td>\n",
       "      <td>inf</td>\n",
       "      <td>0.071398</td>\n",
       "      <td>4.156978e-07</td>\n",
       "    </tr>\n",
       "    <tr>\n",
       "      <th>gamma</th>\n",
       "      <td>0.000451</td>\n",
       "      <td>1869.317673</td>\n",
       "      <td>-22553.004503</td>\n",
       "      <td>inf</td>\n",
       "      <td>0.088047</td>\n",
       "      <td>1.377017e-10</td>\n",
       "    </tr>\n",
       "  </tbody>\n",
       "</table>\n",
       "</div>"
      ],
      "text/plain": [
       "            sumsquare_error          aic           bic  kl_div  ks_statistic  \\\n",
       "genextreme         0.000217  1446.596375 -23651.948096     inf      0.036306   \n",
       "skewnorm           0.000244  1456.124634 -23473.868027     inf      0.061442   \n",
       "beta               0.000259  1394.150315 -23380.171247     inf      0.047449   \n",
       "norm               0.000386  1792.254838 -22792.570924     inf      0.071398   \n",
       "gamma              0.000451  1869.317673 -22553.004503     inf      0.088047   \n",
       "\n",
       "               ks_pvalue  \n",
       "genextreme  3.710846e-02  \n",
       "skewnorm    2.246446e-05  \n",
       "beta        2.223355e-03  \n",
       "norm        4.156978e-07  \n",
       "gamma       1.377017e-10  "
      ]
     },
     "execution_count": 33,
     "metadata": {},
     "output_type": "execute_result"
    },
    {
     "data": {
      "image/png": "[encoded data removed]",
      "text/plain": [
       "<Figure size 432x288 with 1 Axes>"
      ]
     },
     "metadata": {
      "needs_background": "light"
     },
     "output_type": "display_data"
    }
   ],
   "source": [
    "f_1.summary()"
   ]
  },
  {
   "cell_type": "code",
   "execution_count": 34,
   "id": "8d41fff2",
   "metadata": {},
   "outputs": [
    {
     "data": {
      "text/plain": [
       "{'genextreme': {'c': 0.6405201676548978,\n",
       "  'loc': -63.1076996446696,\n",
       "  'scale': 39.76725223162324}}"
      ]
     },
     "execution_count": 34,
     "metadata": {},
     "output_type": "execute_result"
    }
   ],
   "source": [
    "f_1.get_best()"
   ]
  },
  {
   "cell_type": "code",
   "execution_count": 35,
   "id": "3ec3f4d9",
   "metadata": {},
   "outputs": [
    {
     "name": "stderr",
     "output_type": "stream",
     "text": [
      "Fitting 7 distributions: 100%|██████████| 7/7 [00:01<00:00,  5.18it/s]\n"
     ]
    }
   ],
   "source": [
    "# Fitting distribution for noster_cp\n",
    "sl_cp_scores = (cp_scores_all.loc[:, \"sent_less_score\"]).values\n",
    "f_2 = Fitter(sl_cp_scores,\n",
    "           distributions = ['gamma',\n",
    "                          'lognorm',\n",
    "                          'skewnorm',\n",
    "                          'genextreme',\n",
    "                          \"beta\",\n",
    "                          \"burr\",\n",
    "                          \"norm\"])\n",
    "f_2.fit()"
   ]
  },
  {
   "cell_type": "code",
   "execution_count": 36,
   "id": "637d948f",
   "metadata": {},
   "outputs": [
    {
     "data": {
      "text/html": [
       "<div>\n",
       "<style scoped>\n",
       "    .dataframe tbody tr th:only-of-type {\n",
       "        vertical-align: middle;\n",
       "    }\n",
       "\n",
       "    .dataframe tbody tr th {\n",
       "        vertical-align: top;\n",
       "    }\n",
       "\n",
       "    .dataframe thead th {\n",
       "        text-align: right;\n",
       "    }\n",
       "</style>\n",
       "<table border=\"1\" class=\"dataframe\">\n",
       "  <thead>\n",
       "    <tr style=\"text-align: right;\">\n",
       "      <th></th>\n",
       "      <th>sumsquare_error</th>\n",
       "      <th>aic</th>\n",
       "      <th>bic</th>\n",
       "      <th>kl_div</th>\n",
       "      <th>ks_statistic</th>\n",
       "      <th>ks_pvalue</th>\n",
       "    </tr>\n",
       "  </thead>\n",
       "  <tbody>\n",
       "    <tr>\n",
       "      <th>genextreme</th>\n",
       "      <td>0.000159</td>\n",
       "      <td>1461.815904</td>\n",
       "      <td>-24121.997900</td>\n",
       "      <td>inf</td>\n",
       "      <td>0.025367</td>\n",
       "      <td>2.833992e-01</td>\n",
       "    </tr>\n",
       "    <tr>\n",
       "      <th>skewnorm</th>\n",
       "      <td>0.000182</td>\n",
       "      <td>1465.642297</td>\n",
       "      <td>-23912.938529</td>\n",
       "      <td>inf</td>\n",
       "      <td>0.055741</td>\n",
       "      <td>1.684161e-04</td>\n",
       "    </tr>\n",
       "    <tr>\n",
       "      <th>beta</th>\n",
       "      <td>0.000196</td>\n",
       "      <td>1433.350064</td>\n",
       "      <td>-23798.359730</td>\n",
       "      <td>inf</td>\n",
       "      <td>0.038882</td>\n",
       "      <td>2.068836e-02</td>\n",
       "    </tr>\n",
       "    <tr>\n",
       "      <th>burr</th>\n",
       "      <td>0.000306</td>\n",
       "      <td>1439.387394</td>\n",
       "      <td>-23125.527627</td>\n",
       "      <td>inf</td>\n",
       "      <td>0.077899</td>\n",
       "      <td>2.223042e-08</td>\n",
       "    </tr>\n",
       "    <tr>\n",
       "      <th>norm</th>\n",
       "      <td>0.000336</td>\n",
       "      <td>1804.731408</td>\n",
       "      <td>-23002.296665</td>\n",
       "      <td>inf</td>\n",
       "      <td>0.076659</td>\n",
       "      <td>3.963410e-08</td>\n",
       "    </tr>\n",
       "  </tbody>\n",
       "</table>\n",
       "</div>"
      ],
      "text/plain": [
       "            sumsquare_error          aic           bic  kl_div  ks_statistic  \\\n",
       "genextreme         0.000159  1461.815904 -24121.997900     inf      0.025367   \n",
       "skewnorm           0.000182  1465.642297 -23912.938529     inf      0.055741   \n",
       "beta               0.000196  1433.350064 -23798.359730     inf      0.038882   \n",
       "burr               0.000306  1439.387394 -23125.527627     inf      0.077899   \n",
       "norm               0.000336  1804.731408 -23002.296665     inf      0.076659   \n",
       "\n",
       "               ks_pvalue  \n",
       "genextreme  2.833992e-01  \n",
       "skewnorm    1.684161e-04  \n",
       "beta        2.068836e-02  \n",
       "burr        2.223042e-08  \n",
       "norm        3.963410e-08  "
      ]
     },
     "execution_count": 36,
     "metadata": {},
     "output_type": "execute_result"
    },
    {
     "data": {
      "image/png": "[encoded data removed]",
      "text/plain": [
       "<Figure size 432x288 with 1 Axes>"
      ]
     },
     "metadata": {
      "needs_background": "light"
     },
     "output_type": "display_data"
    }
   ],
   "source": [
    "f_2.summary()"
   ]
  },
  {
   "cell_type": "code",
   "execution_count": 37,
   "id": "948d7c2f",
   "metadata": {},
   "outputs": [
    {
     "data": {
      "text/plain": [
       "{'genextreme': {'c': 0.6264915848145682,\n",
       "  'loc': -63.59791678728531,\n",
       "  'scale': 39.581971904650686}}"
      ]
     },
     "execution_count": 37,
     "metadata": {},
     "output_type": "execute_result"
    }
   ],
   "source": [
    "f_2.get_best()"
   ]
  },
  {
   "cell_type": "code",
   "execution_count": 38,
   "id": "8558e37e",
   "metadata": {},
   "outputs": [
    {
     "name": "stderr",
     "output_type": "stream",
     "text": [
      "Fitting 7 distributions: 100%|██████████| 7/7 [00:01<00:00,  5.20it/s]\n"
     ]
    }
   ],
   "source": [
    "# Fitting distribution for ster_sz\n",
    "sl_sz_scores = (sz_scores_all.loc[:, \"sent_more_score\"]).values\n",
    "f_3 = Fitter(sl_sz_scores,\n",
    "           distributions=['gamma',\n",
    "                          'lognorm',\n",
    "                          'skewnorm',\n",
    "                          'genextreme',\n",
    "                          \"beta\",\n",
    "                          \"burr\",\n",
    "                          \"norm\"])\n",
    "f_3.fit()"
   ]
  },
  {
   "cell_type": "code",
   "execution_count": 39,
   "id": "7f55dc02",
   "metadata": {},
   "outputs": [
    {
     "data": {
      "text/html": [
       "<div>\n",
       "<style scoped>\n",
       "    .dataframe tbody tr th:only-of-type {\n",
       "        vertical-align: middle;\n",
       "    }\n",
       "\n",
       "    .dataframe tbody tr th {\n",
       "        vertical-align: top;\n",
       "    }\n",
       "\n",
       "    .dataframe thead th {\n",
       "        text-align: right;\n",
       "    }\n",
       "</style>\n",
       "<table border=\"1\" class=\"dataframe\">\n",
       "  <thead>\n",
       "    <tr style=\"text-align: right;\">\n",
       "      <th></th>\n",
       "      <th>sumsquare_error</th>\n",
       "      <th>aic</th>\n",
       "      <th>bic</th>\n",
       "      <th>kl_div</th>\n",
       "      <th>ks_statistic</th>\n",
       "      <th>ks_pvalue</th>\n",
       "    </tr>\n",
       "  </thead>\n",
       "  <tbody>\n",
       "    <tr>\n",
       "      <th>genextreme</th>\n",
       "      <td>0.000086</td>\n",
       "      <td>1480.723784</td>\n",
       "      <td>-25046.489785</td>\n",
       "      <td>inf</td>\n",
       "      <td>0.017632</td>\n",
       "      <td>7.314338e-01</td>\n",
       "    </tr>\n",
       "    <tr>\n",
       "      <th>beta</th>\n",
       "      <td>0.000105</td>\n",
       "      <td>1407.155190</td>\n",
       "      <td>-24736.665794</td>\n",
       "      <td>inf</td>\n",
       "      <td>0.025941</td>\n",
       "      <td>2.594660e-01</td>\n",
       "    </tr>\n",
       "    <tr>\n",
       "      <th>skewnorm</th>\n",
       "      <td>0.000140</td>\n",
       "      <td>1444.422546</td>\n",
       "      <td>-24308.085192</td>\n",
       "      <td>inf</td>\n",
       "      <td>0.052766</td>\n",
       "      <td>4.459293e-04</td>\n",
       "    </tr>\n",
       "    <tr>\n",
       "      <th>norm</th>\n",
       "      <td>0.000210</td>\n",
       "      <td>1738.916398</td>\n",
       "      <td>-23705.675355</td>\n",
       "      <td>inf</td>\n",
       "      <td>0.066132</td>\n",
       "      <td>3.695374e-06</td>\n",
       "    </tr>\n",
       "    <tr>\n",
       "      <th>gamma</th>\n",
       "      <td>0.000272</td>\n",
       "      <td>1807.457831</td>\n",
       "      <td>-23312.643132</td>\n",
       "      <td>inf</td>\n",
       "      <td>0.084159</td>\n",
       "      <td>1.039660e-09</td>\n",
       "    </tr>\n",
       "  </tbody>\n",
       "</table>\n",
       "</div>"
      ],
      "text/plain": [
       "            sumsquare_error          aic           bic  kl_div  ks_statistic  \\\n",
       "genextreme         0.000086  1480.723784 -25046.489785     inf      0.017632   \n",
       "beta               0.000105  1407.155190 -24736.665794     inf      0.025941   \n",
       "skewnorm           0.000140  1444.422546 -24308.085192     inf      0.052766   \n",
       "norm               0.000210  1738.916398 -23705.675355     inf      0.066132   \n",
       "gamma              0.000272  1807.457831 -23312.643132     inf      0.084159   \n",
       "\n",
       "               ks_pvalue  \n",
       "genextreme  7.314338e-01  \n",
       "beta        2.594660e-01  \n",
       "skewnorm    4.459293e-04  \n",
       "norm        3.695374e-06  \n",
       "gamma       1.039660e-09  "
      ]
     },
     "execution_count": 39,
     "metadata": {},
     "output_type": "execute_result"
    },
    {
     "data": {
      "image/png": "[encoded data removed]",
      "text/plain": [
       "<Figure size 432x288 with 1 Axes>"
      ]
     },
     "metadata": {
      "needs_background": "light"
     },
     "output_type": "display_data"
    }
   ],
   "source": [
    "f_3.summary()"
   ]
  },
  {
   "cell_type": "code",
   "execution_count": 40,
   "id": "7806e95d",
   "metadata": {},
   "outputs": [
    {
     "data": {
      "text/plain": [
       "{'genextreme': {'c': 0.5489383636498755,\n",
       "  'loc': -75.8003577671272,\n",
       "  'scale': 41.00468626391455}}"
      ]
     },
     "execution_count": 40,
     "metadata": {},
     "output_type": "execute_result"
    }
   ],
   "source": [
    "f_3.get_best()"
   ]
  },
  {
   "cell_type": "code",
   "execution_count": 41,
   "id": "954e8ab5",
   "metadata": {},
   "outputs": [
    {
     "name": "stderr",
     "output_type": "stream",
     "text": [
      "Fitting 7 distributions: 100%|██████████| 7/7 [00:01<00:00,  4.89it/s]\n"
     ]
    }
   ],
   "source": [
    "# Fitting distribution for noster_sz\n",
    "sl_sz_scores = (sz_scores_all.loc[:, \"sent_less_score\"]).values\n",
    "f_4 = Fitter(sl_sz_scores,\n",
    "           distributions = ['gamma',\n",
    "                          'lognorm',\n",
    "                          'skewnorm',\n",
    "                          'genextreme',\n",
    "                          \"beta\",\n",
    "                          \"burr\",\n",
    "                          \"norm\"]) \n",
    "f_4.fit()"
   ]
  },
  {
   "cell_type": "code",
   "execution_count": 42,
   "id": "c99a2219",
   "metadata": {},
   "outputs": [
    {
     "data": {
      "text/html": [
       "<div>\n",
       "<style scoped>\n",
       "    .dataframe tbody tr th:only-of-type {\n",
       "        vertical-align: middle;\n",
       "    }\n",
       "\n",
       "    .dataframe tbody tr th {\n",
       "        vertical-align: top;\n",
       "    }\n",
       "\n",
       "    .dataframe thead th {\n",
       "        text-align: right;\n",
       "    }\n",
       "</style>\n",
       "<table border=\"1\" class=\"dataframe\">\n",
       "  <thead>\n",
       "    <tr style=\"text-align: right;\">\n",
       "      <th></th>\n",
       "      <th>sumsquare_error</th>\n",
       "      <th>aic</th>\n",
       "      <th>bic</th>\n",
       "      <th>kl_div</th>\n",
       "      <th>ks_statistic</th>\n",
       "      <th>ks_pvalue</th>\n",
       "    </tr>\n",
       "  </thead>\n",
       "  <tbody>\n",
       "    <tr>\n",
       "      <th>genextreme</th>\n",
       "      <td>0.000101</td>\n",
       "      <td>1551.843501</td>\n",
       "      <td>-24801.869498</td>\n",
       "      <td>inf</td>\n",
       "      <td>0.021688</td>\n",
       "      <td>4.728177e-01</td>\n",
       "    </tr>\n",
       "    <tr>\n",
       "      <th>beta</th>\n",
       "      <td>0.000116</td>\n",
       "      <td>1454.945616</td>\n",
       "      <td>-24584.133036</td>\n",
       "      <td>inf</td>\n",
       "      <td>0.028972</td>\n",
       "      <td>1.572629e-01</td>\n",
       "    </tr>\n",
       "    <tr>\n",
       "      <th>skewnorm</th>\n",
       "      <td>0.000159</td>\n",
       "      <td>1506.331670</td>\n",
       "      <td>-24121.170804</td>\n",
       "      <td>inf</td>\n",
       "      <td>0.054952</td>\n",
       "      <td>2.191854e-04</td>\n",
       "    </tr>\n",
       "    <tr>\n",
       "      <th>norm</th>\n",
       "      <td>0.000207</td>\n",
       "      <td>1854.520385</td>\n",
       "      <td>-23732.898045</td>\n",
       "      <td>inf</td>\n",
       "      <td>0.062300</td>\n",
       "      <td>1.630558e-05</td>\n",
       "    </tr>\n",
       "    <tr>\n",
       "      <th>gamma</th>\n",
       "      <td>0.000242</td>\n",
       "      <td>1917.535561</td>\n",
       "      <td>-23488.387956</td>\n",
       "      <td>inf</td>\n",
       "      <td>0.070277</td>\n",
       "      <td>6.713612e-07</td>\n",
       "    </tr>\n",
       "  </tbody>\n",
       "</table>\n",
       "</div>"
      ],
      "text/plain": [
       "            sumsquare_error          aic           bic  kl_div  ks_statistic  \\\n",
       "genextreme         0.000101  1551.843501 -24801.869498     inf      0.021688   \n",
       "beta               0.000116  1454.945616 -24584.133036     inf      0.028972   \n",
       "skewnorm           0.000159  1506.331670 -24121.170804     inf      0.054952   \n",
       "norm               0.000207  1854.520385 -23732.898045     inf      0.062300   \n",
       "gamma              0.000242  1917.535561 -23488.387956     inf      0.070277   \n",
       "\n",
       "               ks_pvalue  \n",
       "genextreme  4.728177e-01  \n",
       "beta        1.572629e-01  \n",
       "skewnorm    2.191854e-04  \n",
       "norm        1.630558e-05  \n",
       "gamma       6.713612e-07  "
      ]
     },
     "execution_count": 42,
     "metadata": {},
     "output_type": "execute_result"
    },
    {
     "data": {
      "image/png": "[encoded data removed]",
      "text/plain": [
       "<Figure size 432x288 with 1 Axes>"
      ]
     },
     "metadata": {
      "needs_background": "light"
     },
     "output_type": "display_data"
    }
   ],
   "source": [
    "f_4.summary()"
   ]
  },
  {
   "cell_type": "code",
   "execution_count": 43,
   "id": "903562ed",
   "metadata": {},
   "outputs": [
    {
     "data": {
      "text/plain": [
       "{'genextreme': {'c': 0.5381251767072066,\n",
       "  'loc': -77.95078399446045,\n",
       "  'scale': 41.0082992231755}}"
      ]
     },
     "execution_count": 43,
     "metadata": {},
     "output_type": "execute_result"
    }
   ],
   "source": [
    "f_4.get_best()"
   ]
  },
  {
   "cell_type": "code",
   "execution_count": 45,
   "id": "840515a4",
   "metadata": {},
   "outputs": [
    {
     "data": {
      "text/plain": [
       "KstestResult(statistic=0.015302727877578177, pvalue=0.9946365642993653)"
      ]
     },
     "execution_count": 45,
     "metadata": {},
     "output_type": "execute_result"
    }
   ],
   "source": [
    "# kolmogorov smirnov test of ster_cp VS noster_cp\n",
    "ks_2samp(cp_scores_all.loc[:, \"sent_more_score\"], cp_scores_all.loc[:, \"sent_less_score\"])"
   ]
  },
  {
   "cell_type": "code",
   "execution_count": 46,
   "id": "2a88e589",
   "metadata": {},
   "outputs": [
    {
     "data": {
      "text/plain": [
       "KstestResult(statistic=0.03260146373918829, pvalue=0.40156812744914877)"
      ]
     },
     "execution_count": 46,
     "metadata": {},
     "output_type": "execute_result"
    }
   ],
   "source": [
    "# kolmogorov smirnov test of ster_sz VS noster_sz\n",
    "ks_2samp(sz_scores_all.loc[:, \"sent_more_score\"], sz_scores_all.loc[:, \"sent_less_score\"])"
   ]
  },
  {
   "cell_type": "code",
   "execution_count": 52,
   "id": "f4ae1452",
   "metadata": {},
   "outputs": [
    {
     "data": {
      "text/plain": [
       "50.012458611823206"
      ]
     },
     "execution_count": 52,
     "metadata": {},
     "output_type": "execute_result"
    }
   ],
   "source": [
    "# KL Score for ster_cp and noster_cp\n",
    "bias_cp.kl_div(cp_scores_all.loc[:, \"sent_more_score\"], cp_scores_all.loc[:, \"sent_less_score\"] )"
   ]
  },
  {
   "cell_type": "code",
   "execution_count": 53,
   "id": "a7a69efd",
   "metadata": {},
   "outputs": [
    {
     "data": {
      "text/plain": [
       "50.01110651962152"
      ]
     },
     "execution_count": 53,
     "metadata": {},
     "output_type": "execute_result"
    }
   ],
   "source": [
    "# KL Score for ster_sz and noster_sz\n",
    "bias_cp.kl_div(sz_scores_all.loc[:, \"sent_more_score\"], sz_scores_all.loc[:, \"sent_less_score\"] )"
   ]
  },
  {
   "cell_type": "code",
   "execution_count": 63,
   "id": "48232c46",
   "metadata": {},
   "outputs": [
    {
     "data": {
      "image/png": "[encoded data removed]",
      "text/plain": [
       "<Figure size 432x288 with 1 Axes>"
      ]
     },
     "metadata": {
      "needs_background": "light"
     },
     "output_type": "display_data"
    }
   ],
   "source": [
    "# Histogram of diff_cp distribution\n",
    "\n",
    "# Computing the diff_cp distribution\n",
    "diff_scores_cp = cp_scores_all.loc[:,'sent_more_score'] - cp_scores_all.loc[:,'sent_less_score']\n",
    "\n",
    "# Quantiles for removing extreme values\n",
    "q_low = diff_scores_cp.quantile(0.01)\n",
    "q_hi  = diff_scores_cp.quantile(0.99)\n",
    "diff_scores_cp = diff_scores_cp[(diff_scores_cp < q_hi) & (diff_scores_cp > q_low)]\n",
    "\n",
    "plt.hist(diff_scores_cp, bins=100, edgecolor='black')\n",
    "plt.xlabel('PLL differences')\n",
    "plt.ylabel('Frequency')\n",
    "plt.title('Histogram of $diff_{cp}$')\n",
    "plt.show()"
   ]
  },
  {
   "cell_type": "code",
   "execution_count": 61,
   "id": "eae524aa",
   "metadata": {},
   "outputs": [
    {
     "data": {
      "text/plain": [
       "ShapiroResult(statistic=0.994048535823822, pvalue=1.2736232747556642e-05)"
      ]
     },
     "execution_count": 61,
     "metadata": {},
     "output_type": "execute_result"
    }
   ],
   "source": [
    "# Normality test for diff_cp\n",
    "shapiro(diff_scores_cp)"
   ]
  },
  {
   "cell_type": "code",
   "execution_count": 64,
   "id": "d5782bb0",
   "metadata": {},
   "outputs": [
    {
     "data": {
      "image/png": "[encoded data removed]",
      "text/plain": [
       "<Figure size 432x288 with 1 Axes>"
      ]
     },
     "metadata": {
      "needs_background": "light"
     },
     "output_type": "display_data"
    }
   ],
   "source": [
    "# Histogram of diff_sz distribution\n",
    "\n",
    "# Computing the diff_sz distribution\n",
    "diff_scores_sz = sz_scores_all.loc[:,'sent_more_score'] - sz_scores_all.loc[:,'sent_less_score']\n",
    "\n",
    "# Quantiles for removing extreme values\n",
    "q_low = diff_scores_sz.quantile(0.01)\n",
    "q_hi  = diff_scores_sz.quantile(0.99)\n",
    "diff_scores_sz = diff_scores_sz[(diff_scores_sz < q_hi) & (diff_scores_sz > q_low)]\n",
    "plt.hist(diff_scores_sz, bins=100, edgecolor='black')\n",
    "\n",
    "plt.xlabel('PLL differences')\n",
    "plt.ylabel('Frequency')\n",
    "plt.title('Histogram of $diff_{sz}$')\n",
    "plt.show()"
   ]
  },
  {
   "cell_type": "code",
   "execution_count": 65,
   "id": "868678f3",
   "metadata": {},
   "outputs": [
    {
     "data": {
      "text/plain": [
       "ShapiroResult(statistic=0.9831663370132446, pvalue=4.3926954088058245e-12)"
      ]
     },
     "execution_count": 65,
     "metadata": {},
     "output_type": "execute_result"
    }
   ],
   "source": [
    "# Normality test for diff_sz\n",
    "shapiro(diff_scores_sz)"
   ]
  },
  {
   "cell_type": "code",
   "execution_count": 70,
   "id": "9dc9380e",
   "metadata": {},
   "outputs": [
    {
     "data": {
      "text/plain": [
       "0.009027975742321677"
      ]
     },
     "execution_count": 70,
     "metadata": {},
     "output_type": "execute_result"
    }
   ],
   "source": [
    "ztest_Score_cp, p_value_cp = ztest(diff_scores_cp,value = 0.0, alternative='two-sided')\n",
    "p_value_cp"
   ]
  },
  {
   "cell_type": "code",
   "execution_count": 71,
   "id": "000a496e",
   "metadata": {},
   "outputs": [
    {
     "data": {
      "text/plain": [
       "1.1068133572560184e-12"
      ]
     },
     "execution_count": 71,
     "metadata": {},
     "output_type": "execute_result"
    }
   ],
   "source": [
    "ztest_Score_sz, p_value_sz = ztest(diff_scores_sz,value = 0.0, alternative='two-sided')\n",
    "p_value_sz"
   ]
  },
  {
   "cell_type": "code",
   "execution_count": null,
   "id": "a29d5902",
   "metadata": {},
   "outputs": [],
   "source": [
    "#####################################################################################################################\n",
    "# Robustness of m\n",
    "#####################################################################################################################"
   ]
  },
  {
   "cell_type": "code",
   "execution_count": 66,
   "id": "4cbfddbb",
   "metadata": {},
   "outputs": [
    {
     "data": {
      "text/html": [
       "<div>\n",
       "<style scoped>\n",
       "    .dataframe tbody tr th:only-of-type {\n",
       "        vertical-align: middle;\n",
       "    }\n",
       "\n",
       "    .dataframe tbody tr th {\n",
       "        vertical-align: top;\n",
       "    }\n",
       "\n",
       "    .dataframe thead th {\n",
       "        text-align: right;\n",
       "    }\n",
       "</style>\n",
       "<table border=\"1\" class=\"dataframe\">\n",
       "  <thead>\n",
       "    <tr style=\"text-align: right;\">\n",
       "      <th></th>\n",
       "      <th>prop</th>\n",
       "      <th>isBias</th>\n",
       "      <th>p_value</th>\n",
       "    </tr>\n",
       "  </thead>\n",
       "  <tbody>\n",
       "    <tr>\n",
       "      <th>or</th>\n",
       "      <td>0.58</td>\n",
       "      <td>True</td>\n",
       "      <td>0.04361</td>\n",
       "    </tr>\n",
       "    <tr>\n",
       "      <th>par</th>\n",
       "      <td>0.59</td>\n",
       "      <td>True</td>\n",
       "      <td>0.01941</td>\n",
       "    </tr>\n",
       "    <tr>\n",
       "      <th>ran</th>\n",
       "      <td>0.52</td>\n",
       "      <td>False</td>\n",
       "      <td>0.53905</td>\n",
       "    </tr>\n",
       "  </tbody>\n",
       "</table>\n",
       "</div>"
      ],
      "text/plain": [
       "     prop  isBias  p_value\n",
       "or   0.58    True  0.04361\n",
       "par  0.59    True  0.01941\n",
       "ran  0.52   False  0.53905"
      ]
     },
     "execution_count": 66,
     "metadata": {},
     "output_type": "execute_result"
    }
   ],
   "source": [
    "# Results of proportion test using the\n",
    "# original and paraphrased examples\n",
    "# with PLLs computed with cp\n",
    "# Only the results of original\n",
    "# and paraphrased examples are consider.\n",
    "# For comparing the results, only 170\n",
    "# are considered. \n",
    "info_props(cp_scores_all.head(170), 0.05)"
   ]
  },
  {
   "cell_type": "code",
   "execution_count": 67,
   "id": "9d4db274",
   "metadata": {},
   "outputs": [
    {
     "data": {
      "text/html": [
       "<div>\n",
       "<style scoped>\n",
       "    .dataframe tbody tr th:only-of-type {\n",
       "        vertical-align: middle;\n",
       "    }\n",
       "\n",
       "    .dataframe tbody tr th {\n",
       "        vertical-align: top;\n",
       "    }\n",
       "\n",
       "    .dataframe thead th {\n",
       "        text-align: right;\n",
       "    }\n",
       "</style>\n",
       "<table border=\"1\" class=\"dataframe\">\n",
       "  <thead>\n",
       "    <tr style=\"text-align: right;\">\n",
       "      <th></th>\n",
       "      <th>prop</th>\n",
       "      <th>isBias</th>\n",
       "      <th>p_value</th>\n",
       "    </tr>\n",
       "  </thead>\n",
       "  <tbody>\n",
       "    <tr>\n",
       "      <th>or</th>\n",
       "      <td>0.56</td>\n",
       "      <td>False</td>\n",
       "      <td>0.12243</td>\n",
       "    </tr>\n",
       "    <tr>\n",
       "      <th>par</th>\n",
       "      <td>0.53</td>\n",
       "      <td>False</td>\n",
       "      <td>0.44231</td>\n",
       "    </tr>\n",
       "    <tr>\n",
       "      <th>ran</th>\n",
       "      <td>0.56</td>\n",
       "      <td>False</td>\n",
       "      <td>0.08882</td>\n",
       "    </tr>\n",
       "  </tbody>\n",
       "</table>\n",
       "</div>"
      ],
      "text/plain": [
       "     prop  isBias  p_value\n",
       "or   0.56   False  0.12243\n",
       "par  0.53   False  0.44231\n",
       "ran  0.56   False  0.08882"
      ]
     },
     "execution_count": 67,
     "metadata": {},
     "output_type": "execute_result"
    }
   ],
   "source": [
    "# Results of proportion test using the\n",
    "# original and paraphrased examples\n",
    "# with PLLs computed with sz\n",
    "# Only the results of original\n",
    "# and paraphrased examples are consider.\n",
    "# For comparing the results, only 170\n",
    "# are considered. \n",
    "info_props(sz_scores_all.head(170), 0.05)"
   ]
  },
  {
   "cell_type": "code",
   "execution_count": 74,
   "id": "f2dfa6a0",
   "metadata": {},
   "outputs": [],
   "source": [
    "# 170 original examples, cp metric\n",
    "scores_cp = scores_cp.head(170)\n",
    "# Paraphrased examples\n",
    "scores_cp_par = pd.read_csv(os.getcwd()+\"/data/crowspairs/csv_experiments_ch4/cp_beto_par.csv\")\n",
    "# Random examples\n",
    "scores_cp_ran = pd.read_csv(os.getcwd()+\"/data/crowspairs/csv_experiments_ch4/cp_beto_ran.csv\")\n",
    "\n",
    "# 170 original examples, sz metric\n",
    "scores_sal = scores_sal.head(170)\n",
    "# Paraphrased examples\n",
    "scores_sal_par = pd.read_csv(os.getcwd()+\"/data/crowspairs/csv_experiments_ch4/sz_beto_par.csv\")\n",
    "# Random examples\n",
    "scores_sal_ran = pd.read_csv(os.getcwd()+\"/data/crowspairs/csv_experiments_ch4/sz_beto_ran.csv\")"
   ]
  },
  {
   "cell_type": "code",
   "execution_count": 105,
   "id": "b522fa77",
   "metadata": {},
   "outputs": [
    {
     "data": {
      "text/plain": [
       "{'scores_cpVSscores_cp_par': [0.6823529411764706, (0.00049, True)],\n",
       " 'scores_cpVSscores_cp_ran': [0.5, (0.0, True)]}"
      ]
     },
     "execution_count": 105,
     "metadata": {},
     "output_type": "execute_result"
    }
   ],
   "source": [
    "# Proportion (l1) of examples that agree in terms of sign between original\n",
    "# and paraphrased examples and between original and random examples. On l1 is\n",
    "# made the proportion test.\n",
    "dr = {}\n",
    "examples = [scores_cp_par, scores_cp_ran]\n",
    "sn = [\"scores_cp_par\",\"scores_cp_ran\"]\n",
    "i = 0\n",
    "for ex in examples:\n",
    "    s = sum(bias_cp.agree(scores_cp, ex, 'sign', -3.5, 3.5))\n",
    "    #H0: prop = 0.8; H1: prop < 0.8\n",
    "    pr, p_value = s/170, test_pr(s, 170, 0.8, 0.05, alt = \"smaller\")  \n",
    "    dr[\"scores_cp\"+\"VS\"+sn[i]] = [pr, p_value]\n",
    "    i += 1\n",
    "# Results\n",
    "dr"
   ]
  },
  {
   "cell_type": "code",
   "execution_count": 106,
   "id": "82cf6ddb",
   "metadata": {},
   "outputs": [
    {
     "data": {
      "text/plain": [
       "{'scores_cpVSscores_cp_par': [0.7823529411764706, (0.28856, False)],\n",
       " 'scores_cpVSscores_cp_ran': [0.5764705882352941, (0.0, True)]}"
      ]
     },
     "execution_count": 106,
     "metadata": {},
     "output_type": "execute_result"
    }
   ],
   "source": [
    "# Proportion (l1) of examples that agree in terms of interval (as\n",
    "# described in the new method proposed) between original and paraphrased examples\n",
    "# and between original and random examples. On l1 is made the proportion test\n",
    "dr = {}\n",
    "examples = [scores_cp_par, scores_cp_ran]\n",
    "sn = [\"scores_cp_par\",\"scores_cp_ran\"]\n",
    "i = 0\n",
    "for ex in examples:\n",
    "    s = sum(bias_cp.agree(scores_cp, ex, 'my_agree', -3.5, 3.5))\n",
    "    #H0: prop = 0.8; H1: prop < 0.8\n",
    "    pr, p_value = s/170, test_pr(s, 170, 0.8, 0.05, alt = \"smaller\")  \n",
    "    dr[\"scores_cp\"+\"VS\"+sn[i]] = [pr, p_value]\n",
    "    i += 1\n",
    "# Results\n",
    "dr"
   ]
  },
  {
   "cell_type": "code",
   "execution_count": 110,
   "id": "e4d66dcd",
   "metadata": {},
   "outputs": [
    {
     "data": {
      "text/plain": [
       "(-4.067131964065347, 4.759529313174206e-05)"
      ]
     },
     "execution_count": 110,
     "metadata": {},
     "output_type": "execute_result"
    }
   ],
   "source": [
    "# two-sample Z test between the proportions scores_cpVSscores_cp_par and scores_cpVSscores_cp_ran\n",
    "sm.stats.proportions_ztest([98,133], [170,170])"
   ]
  },
  {
   "cell_type": "code",
   "execution_count": 111,
   "id": "da6bf9e0",
   "metadata": {},
   "outputs": [
    {
     "data": {
      "text/plain": [
       "0.5764705882352941"
      ]
     },
     "execution_count": 111,
     "metadata": {},
     "output_type": "execute_result"
    }
   ],
   "source": []
  },
  {
   "cell_type": "code",
   "execution_count": 112,
   "id": "1756b6aa",
   "metadata": {},
   "outputs": [
    {
     "data": {
      "text/plain": [
       "0.7823529411764706"
      ]
     },
     "execution_count": 112,
     "metadata": {},
     "output_type": "execute_result"
    }
   ],
   "source": []
  },
  {
   "cell_type": "code",
   "execution_count": 107,
   "id": "aa3c7317",
   "metadata": {},
   "outputs": [
    {
     "data": {
      "text/plain": [
       "(-4.067131964065347, 4.759529313174206e-05)"
      ]
     },
     "execution_count": 107,
     "metadata": {},
     "output_type": "execute_result"
    }
   ],
   "source": []
  },
  {
   "cell_type": "code",
   "execution_count": null,
   "id": "69baa061",
   "metadata": {},
   "outputs": [],
   "source": []
  },
  {
   "cell_type": "code",
   "execution_count": null,
   "id": "3160a564",
   "metadata": {},
   "outputs": [],
   "source": []
  },
  {
   "cell_type": "code",
   "execution_count": null,
   "id": "687806a6",
   "metadata": {},
   "outputs": [],
   "source": []
  },
  {
   "cell_type": "code",
   "execution_count": null,
   "id": "8c94ab18",
   "metadata": {},
   "outputs": [],
   "source": []
  },
  {
   "cell_type": "code",
   "execution_count": null,
   "id": "85c0670b",
   "metadata": {},
   "outputs": [],
   "source": []
  },
  {
   "cell_type": "code",
   "execution_count": null,
   "id": "3ea7aba6",
   "metadata": {},
   "outputs": [],
   "source": []
  },
  {
   "cell_type": "code",
   "execution_count": null,
   "id": "9b83769f",
   "metadata": {},
   "outputs": [],
   "source": []
  },
  {
   "cell_type": "code",
   "execution_count": null,
   "id": "d31a9b0f",
   "metadata": {},
   "outputs": [],
   "source": []
  },
  {
   "cell_type": "code",
   "execution_count": null,
   "id": "b8736ddc",
   "metadata": {},
   "outputs": [],
   "source": []
  },
  {
   "cell_type": "code",
   "execution_count": null,
   "id": "6c4e60a2",
   "metadata": {},
   "outputs": [],
   "source": []
  },
  {
   "cell_type": "code",
   "execution_count": null,
   "id": "7cffb012",
   "metadata": {},
   "outputs": [],
   "source": []
  },
  {
   "cell_type": "code",
   "execution_count": null,
   "id": "aa4b17a1",
   "metadata": {},
   "outputs": [],
   "source": []
  },
  {
   "cell_type": "code",
   "execution_count": null,
   "id": "378ec979",
   "metadata": {},
   "outputs": [],
   "source": []
  },
  {
   "cell_type": "code",
   "execution_count": null,
   "id": "9b53b57c",
   "metadata": {},
   "outputs": [],
   "source": []
  },
  {
   "cell_type": "code",
   "execution_count": null,
   "id": "7d3a68dc",
   "metadata": {},
   "outputs": [],
   "source": []
  },
  {
   "cell_type": "code",
   "execution_count": null,
   "id": "666a00f6",
   "metadata": {},
   "outputs": [],
   "source": []
  },
  {
   "cell_type": "code",
   "execution_count": null,
   "id": "78abc3c0",
   "metadata": {},
   "outputs": [],
   "source": []
  },
  {
   "cell_type": "code",
   "execution_count": null,
   "id": "9373966b",
   "metadata": {},
   "outputs": [],
   "source": []
  },
  {
   "cell_type": "code",
   "execution_count": null,
   "id": "2a7eb3d9",
   "metadata": {},
   "outputs": [],
   "source": []
  },
  {
   "cell_type": "code",
   "execution_count": null,
   "id": "e2a45b72",
   "metadata": {},
   "outputs": [],
   "source": []
  },
  {
   "cell_type": "code",
   "execution_count": null,
   "id": "3a42e886",
   "metadata": {},
   "outputs": [],
   "source": []
  },
  {
   "cell_type": "code",
   "execution_count": null,
   "id": "ead7277b",
   "metadata": {},
   "outputs": [],
   "source": []
  },
  {
   "cell_type": "code",
   "execution_count": null,
   "id": "f50fd337",
   "metadata": {},
   "outputs": [],
   "source": []
  },
  {
   "cell_type": "code",
   "execution_count": null,
   "id": "d8dc38d7",
   "metadata": {},
   "outputs": [],
   "source": [
    "# Robustezza"
   ]
  },
  {
   "cell_type": "code",
   "execution_count": null,
   "id": "8409ee14",
   "metadata": {},
   "outputs": [],
   "source": []
  },
  {
   "cell_type": "code",
   "execution_count": 75,
   "id": "58110164",
   "metadata": {},
   "outputs": [],
   "source": []
  },
  {
   "cell_type": "code",
   "execution_count": 76,
   "id": "343854fb",
   "metadata": {},
   "outputs": [
    {
     "data": {
      "text/plain": [
       "133"
      ]
     },
     "execution_count": 76,
     "metadata": {},
     "output_type": "execute_result"
    }
   ],
   "source": []
  },
  {
   "cell_type": "code",
   "execution_count": 78,
   "id": "9b5e2b3c",
   "metadata": {},
   "outputs": [],
   "source": []
  },
  {
   "cell_type": "code",
   "execution_count": 79,
   "id": "bd121e95",
   "metadata": {},
   "outputs": [
    {
     "data": {
      "text/plain": [
       "0.7823529411764706"
      ]
     },
     "execution_count": 79,
     "metadata": {},
     "output_type": "execute_result"
    }
   ],
   "source": []
  },
  {
   "cell_type": "code",
   "execution_count": 80,
   "id": "5790df2d",
   "metadata": {},
   "outputs": [
    {
     "data": {
      "text/plain": [
       "(0.28856, False)"
      ]
     },
     "execution_count": 80,
     "metadata": {},
     "output_type": "execute_result"
    }
   ],
   "source": []
  },
  {
   "cell_type": "code",
   "execution_count": null,
   "id": "ac3d05fd",
   "metadata": {},
   "outputs": [],
   "source": []
  },
  {
   "cell_type": "code",
   "execution_count": null,
   "id": "75fabe4c",
   "metadata": {},
   "outputs": [],
   "source": []
  },
  {
   "cell_type": "code",
   "execution_count": null,
   "id": "ac7b42eb",
   "metadata": {},
   "outputs": [],
   "source": []
  },
  {
   "cell_type": "code",
   "execution_count": null,
   "id": "a26145b3",
   "metadata": {},
   "outputs": [],
   "source": []
  },
  {
   "cell_type": "code",
   "execution_count": 113,
   "id": "4435267c",
   "metadata": {},
   "outputs": [],
   "source": [
    "a = scores_cp.iloc[:,3] - scores_cp.iloc[:,4] > 0"
   ]
  },
  {
   "cell_type": "code",
   "execution_count": 114,
   "id": "f31121e0",
   "metadata": {},
   "outputs": [],
   "source": [
    "b = scores_cp_par.iloc[:,3] - scores_cp_par.iloc[:,4] > 0"
   ]
  },
  {
   "cell_type": "code",
   "execution_count": 115,
   "id": "1b928cfb",
   "metadata": {},
   "outputs": [
    {
     "data": {
      "text/plain": [
       "31"
      ]
     },
     "execution_count": 115,
     "metadata": {},
     "output_type": "execute_result"
    }
   ],
   "source": [
    "sum((scores_cp.iloc[:,3] - scores_cp.iloc[:,4]).between(-0.5, 0.5))"
   ]
  },
  {
   "cell_type": "code",
   "execution_count": 116,
   "id": "fa949970",
   "metadata": {},
   "outputs": [],
   "source": [
    "v = ((scores_cp.iloc[:,3] - scores_cp.iloc[:,4])-(scores_cp_par.iloc[:,3] - scores_cp_par.iloc[:,4]) ).between(-5, 5)"
   ]
  },
  {
   "cell_type": "code",
   "execution_count": 117,
   "id": "ee3309fe",
   "metadata": {},
   "outputs": [],
   "source": [
    "a = scores_cp.iloc[:,3] - scores_cp.iloc[:,4]\n",
    "b = scores_cp_par.iloc[:,3] - scores_cp_par.iloc[:,4]\n",
    "c = scores_cp_ran.iloc[:,3] - scores_cp_par.iloc[:,4]"
   ]
  },
  {
   "cell_type": "code",
   "execution_count": 118,
   "id": "39aba44f",
   "metadata": {},
   "outputs": [
    {
     "data": {
      "text/plain": [
       "7.647058823529412"
      ]
     },
     "execution_count": 118,
     "metadata": {},
     "output_type": "execute_result"
    }
   ],
   "source": [
    "sum(a.between(-0.25,0.25))/170 * 100"
   ]
  },
  {
   "cell_type": "code",
   "execution_count": 119,
   "id": "166fc85f",
   "metadata": {},
   "outputs": [
    {
     "data": {
      "text/plain": [
       "11.76470588235294"
      ]
     },
     "execution_count": 119,
     "metadata": {},
     "output_type": "execute_result"
    }
   ],
   "source": [
    "sum(b.between(-0.25,0.25))/170 * 100"
   ]
  },
  {
   "cell_type": "code",
   "execution_count": 120,
   "id": "9a472165",
   "metadata": {},
   "outputs": [
    {
     "data": {
      "image/png": "[encoded data removed]",
      "text/plain": [
       "<Figure size 432x288 with 1 Axes>"
      ]
     },
     "metadata": {
      "needs_background": "light"
     },
     "output_type": "display_data"
    }
   ],
   "source": [
    "plt.hist(a, bins=10, edgecolor='black')\n",
    "# Aggiungi etichette agli assi e un titolo\n",
    "plt.xlabel('PLL')\n",
    "plt.ylabel('Frequency')\n",
    "plt.title('Histogram of $diff_{or}$')\n",
    "# Mostra l'istogramma\n",
    "plt.show()"
   ]
  },
  {
   "cell_type": "code",
   "execution_count": null,
   "id": "ed792ddf",
   "metadata": {},
   "outputs": [],
   "source": [
    "plt.hist(b, bins=10, edgecolor='black')\n",
    "# Aggiungi etichette agli assi e un titolo\n",
    "plt.xlabel('PLL')\n",
    "plt.ylabel('Frequency')\n",
    "plt.title('Histogram of $diff_{par}$')\n",
    "# Mostra l'istogramma\n",
    "plt.show()"
   ]
  },
  {
   "cell_type": "code",
   "execution_count": null,
   "id": "1e115e4e",
   "metadata": {},
   "outputs": [],
   "source": [
    "plt.hist(c, bins=10, edgecolor='black')\n",
    "# Aggiungi etichette agli assi e un titolo\n",
    "plt.xlabel('PLL')\n",
    "plt.ylabel('Frequency')\n",
    "plt.title('Histogram of $diff_{ran}$')\n",
    "# Mostra l'istogramma\n",
    "plt.show()"
   ]
  },
  {
   "cell_type": "code",
   "execution_count": null,
   "id": "abd22f45",
   "metadata": {},
   "outputs": [],
   "source": [
    "ks_2samp(a, b)"
   ]
  },
  {
   "cell_type": "code",
   "execution_count": null,
   "id": "be4c81a0",
   "metadata": {},
   "outputs": [],
   "source": [
    "ztest_Score, p_value = ztest((a-b), value = 0.0, alternative='two-sided')"
   ]
  },
  {
   "cell_type": "code",
   "execution_count": null,
   "id": "2662532e",
   "metadata": {},
   "outputs": [],
   "source": [
    "ztest_Score, p_value"
   ]
  },
  {
   "cell_type": "code",
   "execution_count": null,
   "id": "f7a00c98",
   "metadata": {},
   "outputs": [],
   "source": [
    "ztest_Score, p_value = ztest((a-c), value = 0.0, alternative='two-sided')"
   ]
  },
  {
   "cell_type": "code",
   "execution_count": null,
   "id": "342b4acc",
   "metadata": {},
   "outputs": [],
   "source": [
    "ztest_Score, p_value"
   ]
  },
  {
   "cell_type": "code",
   "execution_count": null,
   "id": "ccfc7875",
   "metadata": {},
   "outputs": [],
   "source": []
  },
  {
   "cell_type": "code",
   "execution_count": null,
   "id": "2ef37a1f-622a-4358-b9a6-c56853afc6a2",
   "metadata": {},
   "outputs": [],
   "source": []
  },
  {
   "cell_type": "code",
   "execution_count": null,
   "id": "2d6fc3f4-93b6-46ff-a5c6-a27495d7aa9d",
   "metadata": {},
   "outputs": [],
   "source": []
  },
  {
   "cell_type": "code",
   "execution_count": null,
   "id": "7055e248-ef0b-4c32-b051-8661be1523b2",
   "metadata": {},
   "outputs": [],
   "source": []
  },
  {
   "cell_type": "code",
   "execution_count": null,
   "id": "3d793a8b-7c16-4417-952d-fe47233d6f88",
   "metadata": {},
   "outputs": [],
   "source": []
  },
  {
   "cell_type": "code",
   "execution_count": null,
   "id": "72a7a8ee-f56f-46d2-a40a-f15d8380a169",
   "metadata": {},
   "outputs": [],
   "source": []
  },
  {
   "cell_type": "code",
   "execution_count": null,
   "id": "c39078a3-4575-4ae7-bb2a-55c884f0b5b0",
   "metadata": {},
   "outputs": [],
   "source": []
  },
  {
   "cell_type": "code",
   "execution_count": null,
   "id": "f2842f73-a02a-4117-b8bc-1c41fd2affd2",
   "metadata": {},
   "outputs": [],
   "source": []
  },
  {
   "cell_type": "code",
   "execution_count": null,
   "id": "037a5c99-8433-4c87-9d9e-e96c5af5f2e9",
   "metadata": {},
   "outputs": [],
   "source": []
  }
 ],
 "metadata": {
  "kernelspec": {
   "display_name": "Python 3",
   "language": "python",
   "name": "python3"
  },
  "language_info": {
   "codemirror_mode": {
    "name": "ipython",
    "version": 3
   },
   "file_extension": ".py",
   "mimetype": "text/x-python",
   "name": "python",
   "nbconvert_exporter": "python",
   "pygments_lexer": "ipython3",
   "version": "3.6.9"
  }
 },
 "nbformat": 4,
 "nbformat_minor": 5
}
